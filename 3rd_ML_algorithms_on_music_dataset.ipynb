{
  "cells": [
    {
      "cell_type": "markdown",
      "metadata": {
        "id": "K2CYQhbxW9nP"
      },
      "source": [
        "### Μέλη Ομάδας:\n",
        "Ον/μο1:  Καραβαγγέλης Αθανάσιος \\\\\n",
        "Αρ. Μητρώου 1:  03117022"
      ]
    },
    {
      "cell_type": "markdown",
      "metadata": {
        "id": "heT7siZWZjQD"
      },
      "source": [
        "# Τεχνητή Νοημοσύνη: Εργαστηριακή Άσκηση 3 \n",
        "Στην άσκηση αυτή θα υλοποιηθούν διάφοροι (σχετικά απλοί) αλγόριθμοι μηχανικής μάθησης για την αυτόματη αναγνώριση μεταξύ 3 μουσικών είδών απο τα δεδομένα που προσφέρει η υπηρεσία Spotify. Συγκεκριμένα, θα δίνονται δύο σύνολα δεδομένων $$Ζ_{train}=\\{(x_1,y_1),\\dots,(x_n,y_n)\\}$$ $$Z_{test} = \\{(x_j,y_j),\\dots{,(x_k,y_k)}\\}$$ όπου κάθε $x_i\\in{\\mathbb{R}^p}$ είναι ένα διάνυσμα με τα μουσικά χαρακτηριστικά κάθε κομματιού (όπως dancability, acousticness κ.α.) και $y_i$ είναι το είδος του κομματιού - ένας ακέραιος στο $[0,2]$. Σε κάθε περίπτωση καλείστε να σχεδιάσετε έναν ταξινομητή, δηλαδή μια απεικόνιση $$f:\\mathbb{R}^p\\rightarrow{[0,2]}$$"
      ]
    },
    {
      "cell_type": "markdown",
      "metadata": {
        "id": "Rvm0mywsZmit"
      },
      "source": [
        "# 1ο Μέρος: Αξιολόγηση\n",
        "Στο πρώτο μέρος της άσκησης θα υλοποιηθούν συναρτήσεις που θα χρησιμοποιηθούν για την αξιολόγηση των ταξινομητών που θα χρησιμοποιηθούν στα επόμενα μέρη.\n",
        "\n",
        "Παρακάτω σας δίνεται η κλάση Evaluate, η οποία υπολογίζει διάφορες μετρικές με τη μέθοδο get_metrics, εντοπίζει αντικείμενα που ταξινομήθηκαν λάθος και τα εμφανίζει (μέθοδος get_sample_of_wrong), και υπολογίζει τον πίνακα σύγχυσης (confusion matrix) όπου οπτικοποιούνται ανά κατηγορία οι προβλέψεις του ταξινομητή.\n",
        "\n",
        "Για το μέρος αυτό καλείστε να υλοποιήσετε στη μέθοδο my_accuracy τη μετρική accuracy, η οποία ορίζεται ως:\n",
        "$$accuracy = \\frac{\\#σωστών\\_προβλέψεων}{\\#δεδομένων}$$\n",
        "\n"
      ]
    },
    {
      "cell_type": "code",
      "execution_count": 66,
      "metadata": {
        "id": "WlTj48uFZhyJ"
      },
      "outputs": [],
      "source": [
        "from sklearn.metrics import confusion_matrix, f1_score, precision_score, recall_score\n",
        "from matplotlib import pyplot as plt\n",
        "import numpy as np\n",
        "import random\n",
        "\n",
        "class Evaluate:\n",
        "    def __init__(self, y_true, y_pred, x):\n",
        "        self.y_true = y_true\n",
        "        self.y_pred = y_pred\n",
        "        self.x = x\n",
        "\n",
        "    def my_accuracy(self):\n",
        "      y_true = self.y_true\n",
        "      y_pred = self.y_pred\n",
        "      \n",
        "      ##################\n",
        "      ## Your code below\n",
        "      real_length = len(y_true)\n",
        "      pred_length = len(y_pred)\n",
        "\n",
        "      assert real_length == pred_length\n",
        "      corrects=0\n",
        "      for i in range(pred_length):\n",
        "        corrects += (y_true[i] == y_pred[i])\n",
        "\n",
        "      acc = corrects / pred_length\n",
        "      ## Your code above\n",
        "      ##################\n",
        "      return acc\n",
        "\n",
        "    def get_metrics(self):\n",
        "        precision = precision_score(self.y_true, self.y_pred, average = \"macro\")\n",
        "        recall = recall_score(self.y_true, self.y_pred, average = \"macro\")\n",
        "        f1 = f1_score(self.y_true, self.y_pred, average = \"macro\")\n",
        "        results = {\"precision\": precision, \"recall\": recall, \"f1\": f1, \"accuracy\": self.my_accuracy()}\n",
        "        return results   \n",
        "    \n",
        "    def confusion_matrix(self):\n",
        "        cm = confusion_matrix(self.y_true, self.y_pred)\n",
        "        return cm \n",
        "    \n",
        "    def get_sample_of_wrong(self):\n",
        "        wrong_indexes = [index for index in range(len(self.y_true)) if self.y_true[index] != self.y_pred[index]]\n",
        "        print(\"\\n{:<9} {:<100} {:<9} {:<9}\".format(\"Index\",\"Features\",\"Labeled\",\"Predicted\"))\n",
        "        for i in wrong_indexes:\n",
        "          print(\"{:<9} {:<100} {:<9} {:<9}\".format(i,self.x[i], self.y_true[i], self.y_pred[i]))\n",
        "\n",
        "\n",
        "    def get_evaluation_report(self, analytic=True):\n",
        "        metrics = self.get_metrics()\n",
        "        for m in metrics:\n",
        "            print(m + ': ' + str(metrics[m]))\n",
        "        cm = self.confusion_matrix()\n",
        "        print(\"Confusion matrix: \")\n",
        "        print(cm)\n",
        "        if analytic:\n",
        "          self.get_sample_of_wrong()"
      ]
    },
    {
      "cell_type": "markdown",
      "metadata": {
        "id": "3qcSvLy6ZpzB"
      },
      "source": [
        "Παράδειγμα χρήσης της κλάσης. Κανονικά στο x θα υπάρχουν τα δεδομένα από το dataset"
      ]
    },
    {
      "cell_type": "code",
      "execution_count": 68,
      "metadata": {
        "id": "S5hRZ9L1ZoNJ",
        "colab": {
          "base_uri": "https://localhost:8080/"
        },
        "outputId": "a77c70c7-a2e2-4c36-97a7-4ad36b5e9372"
      },
      "outputs": [
        {
          "output_type": "stream",
          "name": "stdout",
          "text": [
            "precision: 0.75\n",
            "recall: 0.75\n",
            "f1: 0.75\n",
            "accuracy: 0.75\n",
            "Confusion matrix: \n",
            "[[3 1]\n",
            " [1 3]]\n"
          ]
        }
      ],
      "source": [
        "y_true = [1, 0, 1, 0, 0, 1, 1, 0]\n",
        "y_pred = [1, 0, 1, 0, 1, 1, 0, 0]\n",
        "x = np.random.rand(8)\n",
        "\n",
        "eval = Evaluate(y_true, y_pred,x)\n",
        "eval.get_evaluation_report(analytic=False)"
      ]
    },
    {
      "cell_type": "markdown",
      "metadata": {
        "id": "h9Sex6aEZtt9"
      },
      "source": [
        "# Dataset\n",
        "\n",
        "To dataset που σας δίνεται περιέχει πληθώρα μουσικών κομματιών για τα οποία έχουν καταγραφεί διάφορα χαρακτηριστικά τους, όπως επίσης και το μουσικό είδος στο οποίο ανήκουν. Στη συγκεκριμένη άσκηση θα δουλέψουμε με ένα υποσύνολο (αριθμητικών) χαρακτηριστικών, τα οποία συνεισφέρουν στον καθορισμό της μουσικής κατηγορίας κάθε κομματιού.  \n",
        "\n",
        "Τα χαρακτηριστικά τα οποία θα μελετήσουμε στην παρούσα άσκηση είναι τα \"acousticness\", \"danceability\", \"energy\", \"instrumentalness\", \"liveness\", \"speechiness\", ενώ οι κατηγορίες στις οποίες καλούμαστε να ταξινομήσουμε τα μουσικά κομμάτια είναι οι \"Electronic\", \"Rock\", και \"Rap\".  \n"
      ]
    },
    {
      "cell_type": "code",
      "execution_count": 3,
      "metadata": {
        "id": "RCVa4LWpqraw",
        "colab": {
          "base_uri": "https://localhost:8080/"
        },
        "outputId": "09d61aae-6e84-429d-c3d0-426f1f8e6d38"
      },
      "outputs": [
        {
          "output_type": "stream",
          "name": "stdout",
          "text": [
            "Mounted at /content/drive\n"
          ]
        }
      ],
      "source": [
        "# Σύνδεση του Google Colab με το Google Drive\n",
        "\n",
        "from google.colab import drive\n",
        "drive.mount('/content/drive')"
      ]
    },
    {
      "cell_type": "markdown",
      "source": [
        "Θα χρησιμοποιήσουμε τα DataFrames της βιβλιοθήκης pandas για να χειριστούμε τα δεδομένα μας. Μπορείτε να βρείτε περισσότερες πληροφορίες για τα pandas DataFrames στο αντίστοιχο [documentation](https://pandas.pydata.org/docs/reference/api/pandas.DataFrame.html)."
      ],
      "metadata": {
        "id": "5sKETzTHNgyk"
      }
    },
    {
      "cell_type": "code",
      "execution_count": 4,
      "metadata": {
        "id": "YvbVV9isZrwZ"
      },
      "outputs": [],
      "source": [
        "import pandas as pd\n",
        "from tqdm.notebook import tqdm "
      ]
    },
    {
      "cell_type": "code",
      "execution_count": 5,
      "metadata": {
        "id": "YKpUJSpWqy-I",
        "colab": {
          "base_uri": "https://localhost:8080/",
          "height": 206
        },
        "outputId": "63f7043b-aefe-4ac2-f4de-abc16329d2e0"
      },
      "outputs": [
        {
          "output_type": "execute_result",
          "data": {
            "text/html": [
              "\n",
              "  <div id=\"df-8d1c4968-8491-4857-a0db-3ffb1cc01916\">\n",
              "    <div class=\"colab-df-container\">\n",
              "      <div>\n",
              "<style scoped>\n",
              "    .dataframe tbody tr th:only-of-type {\n",
              "        vertical-align: middle;\n",
              "    }\n",
              "\n",
              "    .dataframe tbody tr th {\n",
              "        vertical-align: top;\n",
              "    }\n",
              "\n",
              "    .dataframe thead th {\n",
              "        text-align: right;\n",
              "    }\n",
              "</style>\n",
              "<table border=\"1\" class=\"dataframe\">\n",
              "  <thead>\n",
              "    <tr style=\"text-align: right;\">\n",
              "      <th></th>\n",
              "      <th>instance_id</th>\n",
              "      <th>artist_name</th>\n",
              "      <th>track_name</th>\n",
              "      <th>popularity</th>\n",
              "      <th>acousticness</th>\n",
              "      <th>danceability</th>\n",
              "      <th>duration_ms</th>\n",
              "      <th>energy</th>\n",
              "      <th>instrumentalness</th>\n",
              "      <th>key</th>\n",
              "      <th>liveness</th>\n",
              "      <th>loudness</th>\n",
              "      <th>mode</th>\n",
              "      <th>speechiness</th>\n",
              "      <th>tempo</th>\n",
              "      <th>obtained_date</th>\n",
              "      <th>valence</th>\n",
              "      <th>music_genre</th>\n",
              "    </tr>\n",
              "  </thead>\n",
              "  <tbody>\n",
              "    <tr>\n",
              "      <th>0</th>\n",
              "      <td>32894.0</td>\n",
              "      <td>Röyksopp</td>\n",
              "      <td>Röyksopp's Night Out</td>\n",
              "      <td>27.0</td>\n",
              "      <td>0.00468</td>\n",
              "      <td>0.652</td>\n",
              "      <td>-1.0</td>\n",
              "      <td>0.941</td>\n",
              "      <td>0.79200</td>\n",
              "      <td>A#</td>\n",
              "      <td>0.115</td>\n",
              "      <td>-5.201</td>\n",
              "      <td>Minor</td>\n",
              "      <td>0.0748</td>\n",
              "      <td>100.889</td>\n",
              "      <td>4-Apr</td>\n",
              "      <td>0.759</td>\n",
              "      <td>Electronic</td>\n",
              "    </tr>\n",
              "    <tr>\n",
              "      <th>1</th>\n",
              "      <td>46652.0</td>\n",
              "      <td>Thievery Corporation</td>\n",
              "      <td>The Shining Path</td>\n",
              "      <td>31.0</td>\n",
              "      <td>0.01270</td>\n",
              "      <td>0.622</td>\n",
              "      <td>218293.0</td>\n",
              "      <td>0.890</td>\n",
              "      <td>0.95000</td>\n",
              "      <td>D</td>\n",
              "      <td>0.124</td>\n",
              "      <td>-7.043</td>\n",
              "      <td>Minor</td>\n",
              "      <td>0.0300</td>\n",
              "      <td>115.002</td>\n",
              "      <td>4-Apr</td>\n",
              "      <td>0.531</td>\n",
              "      <td>Electronic</td>\n",
              "    </tr>\n",
              "    <tr>\n",
              "      <th>2</th>\n",
              "      <td>30097.0</td>\n",
              "      <td>Dillon Francis</td>\n",
              "      <td>Hurricane</td>\n",
              "      <td>28.0</td>\n",
              "      <td>0.00306</td>\n",
              "      <td>0.620</td>\n",
              "      <td>215613.0</td>\n",
              "      <td>0.755</td>\n",
              "      <td>0.01180</td>\n",
              "      <td>G#</td>\n",
              "      <td>0.534</td>\n",
              "      <td>-4.617</td>\n",
              "      <td>Major</td>\n",
              "      <td>0.0345</td>\n",
              "      <td>127.994</td>\n",
              "      <td>4-Apr</td>\n",
              "      <td>0.333</td>\n",
              "      <td>Electronic</td>\n",
              "    </tr>\n",
              "    <tr>\n",
              "      <th>3</th>\n",
              "      <td>62177.0</td>\n",
              "      <td>Dubloadz</td>\n",
              "      <td>Nitro</td>\n",
              "      <td>34.0</td>\n",
              "      <td>0.02540</td>\n",
              "      <td>0.774</td>\n",
              "      <td>166875.0</td>\n",
              "      <td>0.700</td>\n",
              "      <td>0.00253</td>\n",
              "      <td>C#</td>\n",
              "      <td>0.157</td>\n",
              "      <td>-4.498</td>\n",
              "      <td>Major</td>\n",
              "      <td>0.2390</td>\n",
              "      <td>128.014</td>\n",
              "      <td>4-Apr</td>\n",
              "      <td>0.270</td>\n",
              "      <td>Electronic</td>\n",
              "    </tr>\n",
              "    <tr>\n",
              "      <th>4</th>\n",
              "      <td>24907.0</td>\n",
              "      <td>What So Not</td>\n",
              "      <td>Divide &amp; Conquer</td>\n",
              "      <td>32.0</td>\n",
              "      <td>0.00465</td>\n",
              "      <td>0.638</td>\n",
              "      <td>222369.0</td>\n",
              "      <td>0.587</td>\n",
              "      <td>0.90900</td>\n",
              "      <td>F#</td>\n",
              "      <td>0.157</td>\n",
              "      <td>-6.266</td>\n",
              "      <td>Major</td>\n",
              "      <td>0.0413</td>\n",
              "      <td>145.036</td>\n",
              "      <td>4-Apr</td>\n",
              "      <td>0.323</td>\n",
              "      <td>Electronic</td>\n",
              "    </tr>\n",
              "  </tbody>\n",
              "</table>\n",
              "</div>\n",
              "      <button class=\"colab-df-convert\" onclick=\"convertToInteractive('df-8d1c4968-8491-4857-a0db-3ffb1cc01916')\"\n",
              "              title=\"Convert this dataframe to an interactive table.\"\n",
              "              style=\"display:none;\">\n",
              "        \n",
              "  <svg xmlns=\"http://www.w3.org/2000/svg\" height=\"24px\"viewBox=\"0 0 24 24\"\n",
              "       width=\"24px\">\n",
              "    <path d=\"M0 0h24v24H0V0z\" fill=\"none\"/>\n",
              "    <path d=\"M18.56 5.44l.94 2.06.94-2.06 2.06-.94-2.06-.94-.94-2.06-.94 2.06-2.06.94zm-11 1L8.5 8.5l.94-2.06 2.06-.94-2.06-.94L8.5 2.5l-.94 2.06-2.06.94zm10 10l.94 2.06.94-2.06 2.06-.94-2.06-.94-.94-2.06-.94 2.06-2.06.94z\"/><path d=\"M17.41 7.96l-1.37-1.37c-.4-.4-.92-.59-1.43-.59-.52 0-1.04.2-1.43.59L10.3 9.45l-7.72 7.72c-.78.78-.78 2.05 0 2.83L4 21.41c.39.39.9.59 1.41.59.51 0 1.02-.2 1.41-.59l7.78-7.78 2.81-2.81c.8-.78.8-2.07 0-2.86zM5.41 20L4 18.59l7.72-7.72 1.47 1.35L5.41 20z\"/>\n",
              "  </svg>\n",
              "      </button>\n",
              "      \n",
              "  <style>\n",
              "    .colab-df-container {\n",
              "      display:flex;\n",
              "      flex-wrap:wrap;\n",
              "      gap: 12px;\n",
              "    }\n",
              "\n",
              "    .colab-df-convert {\n",
              "      background-color: #E8F0FE;\n",
              "      border: none;\n",
              "      border-radius: 50%;\n",
              "      cursor: pointer;\n",
              "      display: none;\n",
              "      fill: #1967D2;\n",
              "      height: 32px;\n",
              "      padding: 0 0 0 0;\n",
              "      width: 32px;\n",
              "    }\n",
              "\n",
              "    .colab-df-convert:hover {\n",
              "      background-color: #E2EBFA;\n",
              "      box-shadow: 0px 1px 2px rgba(60, 64, 67, 0.3), 0px 1px 3px 1px rgba(60, 64, 67, 0.15);\n",
              "      fill: #174EA6;\n",
              "    }\n",
              "\n",
              "    [theme=dark] .colab-df-convert {\n",
              "      background-color: #3B4455;\n",
              "      fill: #D2E3FC;\n",
              "    }\n",
              "\n",
              "    [theme=dark] .colab-df-convert:hover {\n",
              "      background-color: #434B5C;\n",
              "      box-shadow: 0px 1px 3px 1px rgba(0, 0, 0, 0.15);\n",
              "      filter: drop-shadow(0px 1px 2px rgba(0, 0, 0, 0.3));\n",
              "      fill: #FFFFFF;\n",
              "    }\n",
              "  </style>\n",
              "\n",
              "      <script>\n",
              "        const buttonEl =\n",
              "          document.querySelector('#df-8d1c4968-8491-4857-a0db-3ffb1cc01916 button.colab-df-convert');\n",
              "        buttonEl.style.display =\n",
              "          google.colab.kernel.accessAllowed ? 'block' : 'none';\n",
              "\n",
              "        async function convertToInteractive(key) {\n",
              "          const element = document.querySelector('#df-8d1c4968-8491-4857-a0db-3ffb1cc01916');\n",
              "          const dataTable =\n",
              "            await google.colab.kernel.invokeFunction('convertToInteractive',\n",
              "                                                     [key], {});\n",
              "          if (!dataTable) return;\n",
              "\n",
              "          const docLinkHtml = 'Like what you see? Visit the ' +\n",
              "            '<a target=\"_blank\" href=https://colab.research.google.com/notebooks/data_table.ipynb>data table notebook</a>'\n",
              "            + ' to learn more about interactive tables.';\n",
              "          element.innerHTML = '';\n",
              "          dataTable['output_type'] = 'display_data';\n",
              "          await google.colab.output.renderOutput(dataTable, element);\n",
              "          const docLink = document.createElement('div');\n",
              "          docLink.innerHTML = docLinkHtml;\n",
              "          element.appendChild(docLink);\n",
              "        }\n",
              "      </script>\n",
              "    </div>\n",
              "  </div>\n",
              "  "
            ],
            "text/plain": [
              "   instance_id           artist_name  ... valence  music_genre\n",
              "0      32894.0              Röyksopp  ...   0.759   Electronic\n",
              "1      46652.0  Thievery Corporation  ...   0.531   Electronic\n",
              "2      30097.0        Dillon Francis  ...   0.333   Electronic\n",
              "3      62177.0              Dubloadz  ...   0.270   Electronic\n",
              "4      24907.0           What So Not  ...   0.323   Electronic\n",
              "\n",
              "[5 rows x 18 columns]"
            ]
          },
          "metadata": {},
          "execution_count": 5
        }
      ],
      "source": [
        "# read data in the form of pandas DataFrame\n",
        "data = pd.read_csv(\"/content/drive/MyDrive/ai-ntua/music_df_processed.csv\")\n",
        "# print the first 5 values of the DataFrame using .head() command\n",
        "data.head()"
      ]
    },
    {
      "cell_type": "code",
      "source": [
        "# What can we see here?\n",
        "data.describe()"
      ],
      "metadata": {
        "id": "1mjeVnUCPVkR",
        "colab": {
          "base_uri": "https://localhost:8080/",
          "height": 300
        },
        "outputId": "1a1124da-613e-49dd-ac6b-d0462db172bf"
      },
      "execution_count": 6,
      "outputs": [
        {
          "output_type": "execute_result",
          "data": {
            "text/html": [
              "\n",
              "  <div id=\"df-5ec9a29c-6eff-48a3-8d09-4767e3e68797\">\n",
              "    <div class=\"colab-df-container\">\n",
              "      <div>\n",
              "<style scoped>\n",
              "    .dataframe tbody tr th:only-of-type {\n",
              "        vertical-align: middle;\n",
              "    }\n",
              "\n",
              "    .dataframe tbody tr th {\n",
              "        vertical-align: top;\n",
              "    }\n",
              "\n",
              "    .dataframe thead th {\n",
              "        text-align: right;\n",
              "    }\n",
              "</style>\n",
              "<table border=\"1\" class=\"dataframe\">\n",
              "  <thead>\n",
              "    <tr style=\"text-align: right;\">\n",
              "      <th></th>\n",
              "      <th>instance_id</th>\n",
              "      <th>popularity</th>\n",
              "      <th>acousticness</th>\n",
              "      <th>danceability</th>\n",
              "      <th>duration_ms</th>\n",
              "      <th>energy</th>\n",
              "      <th>instrumentalness</th>\n",
              "      <th>liveness</th>\n",
              "      <th>loudness</th>\n",
              "      <th>speechiness</th>\n",
              "      <th>tempo</th>\n",
              "      <th>valence</th>\n",
              "    </tr>\n",
              "  </thead>\n",
              "  <tbody>\n",
              "    <tr>\n",
              "      <th>count</th>\n",
              "      <td>45020.000000</td>\n",
              "      <td>45020.000000</td>\n",
              "      <td>45020.000000</td>\n",
              "      <td>45020.000000</td>\n",
              "      <td>4.502000e+04</td>\n",
              "      <td>45020.000000</td>\n",
              "      <td>45020.000000</td>\n",
              "      <td>45020.000000</td>\n",
              "      <td>45020.000000</td>\n",
              "      <td>45020.000000</td>\n",
              "      <td>45020.000000</td>\n",
              "      <td>45020.000000</td>\n",
              "    </tr>\n",
              "    <tr>\n",
              "      <th>mean</th>\n",
              "      <td>55884.691892</td>\n",
              "      <td>44.263327</td>\n",
              "      <td>0.306596</td>\n",
              "      <td>0.558532</td>\n",
              "      <td>2.211695e+05</td>\n",
              "      <td>0.599553</td>\n",
              "      <td>0.181843</td>\n",
              "      <td>0.193951</td>\n",
              "      <td>-9.137016</td>\n",
              "      <td>0.093783</td>\n",
              "      <td>119.952961</td>\n",
              "      <td>0.456394</td>\n",
              "    </tr>\n",
              "    <tr>\n",
              "      <th>std</th>\n",
              "      <td>20728.197040</td>\n",
              "      <td>15.553972</td>\n",
              "      <td>0.341391</td>\n",
              "      <td>0.178858</td>\n",
              "      <td>1.276884e+05</td>\n",
              "      <td>0.264510</td>\n",
              "      <td>0.325847</td>\n",
              "      <td>0.161715</td>\n",
              "      <td>6.156400</td>\n",
              "      <td>0.101469</td>\n",
              "      <td>30.641701</td>\n",
              "      <td>0.247161</td>\n",
              "    </tr>\n",
              "    <tr>\n",
              "      <th>min</th>\n",
              "      <td>20002.000000</td>\n",
              "      <td>0.000000</td>\n",
              "      <td>0.000000</td>\n",
              "      <td>0.059600</td>\n",
              "      <td>-1.000000e+00</td>\n",
              "      <td>0.000792</td>\n",
              "      <td>0.000000</td>\n",
              "      <td>0.009670</td>\n",
              "      <td>-47.046000</td>\n",
              "      <td>0.022300</td>\n",
              "      <td>34.347000</td>\n",
              "      <td>0.000000</td>\n",
              "    </tr>\n",
              "    <tr>\n",
              "      <th>25%</th>\n",
              "      <td>38000.750000</td>\n",
              "      <td>34.000000</td>\n",
              "      <td>0.020100</td>\n",
              "      <td>0.442000</td>\n",
              "      <td>1.747230e+05</td>\n",
              "      <td>0.432000</td>\n",
              "      <td>0.000000</td>\n",
              "      <td>0.096900</td>\n",
              "      <td>-10.860000</td>\n",
              "      <td>0.036100</td>\n",
              "      <td>94.941500</td>\n",
              "      <td>0.257000</td>\n",
              "    </tr>\n",
              "    <tr>\n",
              "      <th>50%</th>\n",
              "      <td>55857.500000</td>\n",
              "      <td>45.000000</td>\n",
              "      <td>0.145000</td>\n",
              "      <td>0.568000</td>\n",
              "      <td>2.194385e+05</td>\n",
              "      <td>0.642000</td>\n",
              "      <td>0.000159</td>\n",
              "      <td>0.126000</td>\n",
              "      <td>-7.284000</td>\n",
              "      <td>0.048900</td>\n",
              "      <td>119.879000</td>\n",
              "      <td>0.448000</td>\n",
              "    </tr>\n",
              "    <tr>\n",
              "      <th>75%</th>\n",
              "      <td>73856.500000</td>\n",
              "      <td>56.000000</td>\n",
              "      <td>0.551000</td>\n",
              "      <td>0.687000</td>\n",
              "      <td>2.686400e+05</td>\n",
              "      <td>0.815250</td>\n",
              "      <td>0.154000</td>\n",
              "      <td>0.244000</td>\n",
              "      <td>-5.177000</td>\n",
              "      <td>0.098800</td>\n",
              "      <td>140.471250</td>\n",
              "      <td>0.648000</td>\n",
              "    </tr>\n",
              "    <tr>\n",
              "      <th>max</th>\n",
              "      <td>91759.000000</td>\n",
              "      <td>99.000000</td>\n",
              "      <td>0.996000</td>\n",
              "      <td>0.986000</td>\n",
              "      <td>4.497994e+06</td>\n",
              "      <td>0.999000</td>\n",
              "      <td>0.996000</td>\n",
              "      <td>1.000000</td>\n",
              "      <td>3.744000</td>\n",
              "      <td>0.942000</td>\n",
              "      <td>220.276000</td>\n",
              "      <td>0.992000</td>\n",
              "    </tr>\n",
              "  </tbody>\n",
              "</table>\n",
              "</div>\n",
              "      <button class=\"colab-df-convert\" onclick=\"convertToInteractive('df-5ec9a29c-6eff-48a3-8d09-4767e3e68797')\"\n",
              "              title=\"Convert this dataframe to an interactive table.\"\n",
              "              style=\"display:none;\">\n",
              "        \n",
              "  <svg xmlns=\"http://www.w3.org/2000/svg\" height=\"24px\"viewBox=\"0 0 24 24\"\n",
              "       width=\"24px\">\n",
              "    <path d=\"M0 0h24v24H0V0z\" fill=\"none\"/>\n",
              "    <path d=\"M18.56 5.44l.94 2.06.94-2.06 2.06-.94-2.06-.94-.94-2.06-.94 2.06-2.06.94zm-11 1L8.5 8.5l.94-2.06 2.06-.94-2.06-.94L8.5 2.5l-.94 2.06-2.06.94zm10 10l.94 2.06.94-2.06 2.06-.94-2.06-.94-.94-2.06-.94 2.06-2.06.94z\"/><path d=\"M17.41 7.96l-1.37-1.37c-.4-.4-.92-.59-1.43-.59-.52 0-1.04.2-1.43.59L10.3 9.45l-7.72 7.72c-.78.78-.78 2.05 0 2.83L4 21.41c.39.39.9.59 1.41.59.51 0 1.02-.2 1.41-.59l7.78-7.78 2.81-2.81c.8-.78.8-2.07 0-2.86zM5.41 20L4 18.59l7.72-7.72 1.47 1.35L5.41 20z\"/>\n",
              "  </svg>\n",
              "      </button>\n",
              "      \n",
              "  <style>\n",
              "    .colab-df-container {\n",
              "      display:flex;\n",
              "      flex-wrap:wrap;\n",
              "      gap: 12px;\n",
              "    }\n",
              "\n",
              "    .colab-df-convert {\n",
              "      background-color: #E8F0FE;\n",
              "      border: none;\n",
              "      border-radius: 50%;\n",
              "      cursor: pointer;\n",
              "      display: none;\n",
              "      fill: #1967D2;\n",
              "      height: 32px;\n",
              "      padding: 0 0 0 0;\n",
              "      width: 32px;\n",
              "    }\n",
              "\n",
              "    .colab-df-convert:hover {\n",
              "      background-color: #E2EBFA;\n",
              "      box-shadow: 0px 1px 2px rgba(60, 64, 67, 0.3), 0px 1px 3px 1px rgba(60, 64, 67, 0.15);\n",
              "      fill: #174EA6;\n",
              "    }\n",
              "\n",
              "    [theme=dark] .colab-df-convert {\n",
              "      background-color: #3B4455;\n",
              "      fill: #D2E3FC;\n",
              "    }\n",
              "\n",
              "    [theme=dark] .colab-df-convert:hover {\n",
              "      background-color: #434B5C;\n",
              "      box-shadow: 0px 1px 3px 1px rgba(0, 0, 0, 0.15);\n",
              "      filter: drop-shadow(0px 1px 2px rgba(0, 0, 0, 0.3));\n",
              "      fill: #FFFFFF;\n",
              "    }\n",
              "  </style>\n",
              "\n",
              "      <script>\n",
              "        const buttonEl =\n",
              "          document.querySelector('#df-5ec9a29c-6eff-48a3-8d09-4767e3e68797 button.colab-df-convert');\n",
              "        buttonEl.style.display =\n",
              "          google.colab.kernel.accessAllowed ? 'block' : 'none';\n",
              "\n",
              "        async function convertToInteractive(key) {\n",
              "          const element = document.querySelector('#df-5ec9a29c-6eff-48a3-8d09-4767e3e68797');\n",
              "          const dataTable =\n",
              "            await google.colab.kernel.invokeFunction('convertToInteractive',\n",
              "                                                     [key], {});\n",
              "          if (!dataTable) return;\n",
              "\n",
              "          const docLinkHtml = 'Like what you see? Visit the ' +\n",
              "            '<a target=\"_blank\" href=https://colab.research.google.com/notebooks/data_table.ipynb>data table notebook</a>'\n",
              "            + ' to learn more about interactive tables.';\n",
              "          element.innerHTML = '';\n",
              "          dataTable['output_type'] = 'display_data';\n",
              "          await google.colab.output.renderOutput(dataTable, element);\n",
              "          const docLink = document.createElement('div');\n",
              "          docLink.innerHTML = docLinkHtml;\n",
              "          element.appendChild(docLink);\n",
              "        }\n",
              "      </script>\n",
              "    </div>\n",
              "  </div>\n",
              "  "
            ],
            "text/plain": [
              "        instance_id    popularity  ...         tempo       valence\n",
              "count  45020.000000  45020.000000  ...  45020.000000  45020.000000\n",
              "mean   55884.691892     44.263327  ...    119.952961      0.456394\n",
              "std    20728.197040     15.553972  ...     30.641701      0.247161\n",
              "min    20002.000000      0.000000  ...     34.347000      0.000000\n",
              "25%    38000.750000     34.000000  ...     94.941500      0.257000\n",
              "50%    55857.500000     45.000000  ...    119.879000      0.448000\n",
              "75%    73856.500000     56.000000  ...    140.471250      0.648000\n",
              "max    91759.000000     99.000000  ...    220.276000      0.992000\n",
              "\n",
              "[8 rows x 12 columns]"
            ]
          },
          "metadata": {},
          "execution_count": 6
        }
      ]
    },
    {
      "cell_type": "markdown",
      "source": [
        "## Επιλογή χαρακτηριστικών x και στόχων y.  \n",
        "\n",
        "Για λόγους απλότητας επιλέγουμε τα χαρακτηριστικά (inputs) και τις κατηγορίες-στόχους (genres). Καλείστε να διαχωρίσετε τα δεδομένα σε train/test set. Ας θεωρήσουμε το διαχωρισμό 30% - test set, 70% - train set."
      ],
      "metadata": {
        "id": "0EtEH-M9Ikac"
      }
    },
    {
      "cell_type": "code",
      "execution_count": 7,
      "metadata": {
        "id": "tHa_Qq0Efqxb"
      },
      "outputs": [],
      "source": [
        "from sklearn.model_selection import train_test_split\n",
        "# χαρακτηριστικά\n",
        "inputs = [\"acousticness\", \"danceability\", \"energy\", \"instrumentalness\", \"liveness\", \"speechiness\"]\n",
        "\n",
        "# κατηγορίες-στόχοι\n",
        "output = \"music_genre\"\n",
        "genres = [\"Electronic\", \"Rock\", \"Rap\"]\n",
        "\n",
        "# φιλτράρουμε το DataFrame ώστε να διατηρήσουμε μόνο τις 3 κατηγορίες που μας ενδιαφέρουν.\n",
        "data = data[data[output].isin(genres)]\n",
        "\n",
        "# dictionary to map genre to label id \n",
        "genres_to_id = {genre: i for i, genre in enumerate(genres)}\n",
        "\n",
        "#keep only the columns that we need\n",
        "data = data[inputs+[output]]\n",
        "\n",
        "data.music_genre = data.music_genre.map(genres_to_id)\n",
        "\n",
        "# εδώ πρέπει να διαχωρίσετε τα δεδομένα σε train (70% των δεδομένων)/test set (30% των δεδομένων)\n",
        "# ονομάστε τις μεταβλητές ως εξής:\n",
        "# τα χαρακτηριστικά του train set: x_train\n",
        "# τις κατηγορίες-στόχους του train set: y_train\n",
        "# τα χαρακτηριστικά του test set: x_test\n",
        "# τις κατηγορίες-στόχους του test set: y_test\n",
        "# x_test, y_test, x_train, y_train = [], [], [], []\n",
        "##################\n",
        "## Your code below\n",
        "\n",
        "features = data.iloc[:, :6].values\n",
        "labels = data.iloc[:,[6]].values\n",
        "\n",
        "x_train, x_test, y_train, y_test = train_test_split(features, labels, test_size=0.3)\n",
        "\n",
        "## Your code above\n",
        "##################"
      ]
    },
    {
      "cell_type": "markdown",
      "source": [
        "## Μορφή των δεδομένων  \n",
        "\n",
        "Βεβαιωθείτε ότι τα δεδομένα σας έχουν τη σωστή μορφή εκτυπώνοντας τον αριθμό γραμμών και στηλών για τα x_test, y_test, x_train, y_train."
      ],
      "metadata": {
        "id": "hhte3iixLg8C"
      }
    },
    {
      "cell_type": "code",
      "execution_count": 8,
      "metadata": {
        "id": "FhDzmllUZvyp",
        "colab": {
          "base_uri": "https://localhost:8080/"
        },
        "outputId": "63d13ef0-fc9a-4b3c-8872-81b6a12d2626"
      },
      "outputs": [
        {
          "output_type": "stream",
          "name": "stdout",
          "text": [
            "x_test shape:\t (4060, 6)\n",
            "y_test shape:\t (4060, 1)\n",
            "x_train shape:\t (9471, 6)\n",
            "y_train shape:\t (9471, 1)\n"
          ]
        }
      ],
      "source": [
        "# Shape of x_test, y_test, x_train, y_train\n",
        "\n",
        "##################\n",
        "## Your code below\n",
        "\n",
        "print(\"x_test shape:\\t\", x_test.shape)\n",
        "print(\"y_test shape:\\t\",y_test.shape)\n",
        "print(\"x_train shape:\\t\", x_train.shape)\n",
        "print(\"y_train shape:\\t\",y_train.shape)\n",
        "\n",
        "## Your code above\n",
        "##################"
      ]
    },
    {
      "cell_type": "markdown",
      "source": [
        "Αναφορικά με τις τιμές των χαρακτηριστικών, είναι σημαντικό να γνωρίζουμε το εύρος τους, δηλαδή τη μέγιστη και την ελάχιστη τιμή που λαμβάνει το κάθε χαρακτηριστικό. Εξερευνήστε το εύρος του κάθε χαρακτηριστικού στα train και test set. "
      ],
      "metadata": {
        "id": "QAQ3qN1NMVpf"
      }
    },
    {
      "cell_type": "code",
      "source": [
        "# Range of x_train, x_test columns\n",
        "##################\n",
        "## Your code below\n",
        "from prettytable import PrettyTable\n",
        "t = PrettyTable(['Feature', 'Range in x_train', 'Range in x_test', 'Maximum in x_train' ,'Maximum in x_test', 'Minimum in x_train', 'Minimum in x_test'])\n",
        "\n",
        "for column in range(6):\n",
        "  t.add_row([data.columns[column], x_train[column].max() - x_train[column].min(), x_test[column].max() - x_test[column].min(), x_train[column].max(), x_test[column].max(), x_train[column].min(), x_test[column].min()])\n",
        "print(t)\n",
        "\n",
        "## Your code above\n",
        "##################"
      ],
      "metadata": {
        "id": "twobPa_DMxI2",
        "colab": {
          "base_uri": "https://localhost:8080/"
        },
        "outputId": "b20e76ec-ab8b-4809-e73c-8dcfa45bccbf"
      },
      "execution_count": 9,
      "outputs": [
        {
          "output_type": "stream",
          "name": "stdout",
          "text": [
            "+------------------+--------------------+--------------------+--------------------+--------------------+--------------------+-------------------+\n",
            "|     Feature      |  Range in x_train  |  Range in x_test   | Maximum in x_train | Maximum in x_test  | Minimum in x_train | Minimum in x_test |\n",
            "+------------------+--------------------+--------------------+--------------------+--------------------+--------------------+-------------------+\n",
            "|   acousticness   |      0.861353      | 0.8841999999999999 |       0.862        | 0.9079999999999999 |      0.000647      |       0.0238      |\n",
            "|   danceability   |     0.77699672     | 0.6990000000000001 |       0.777        | 0.6990000000000001 |      3.28e-06      |        0.0        |\n",
            "|      energy      |        0.64        |      0.946308      |        0.64        | 0.9470000000000001 |        0.0         |      0.000692     |\n",
            "| instrumentalness | 0.8639919400000001 |       0.7222       | 0.8640000000000001 |       0.752        |      8.06e-06      |       0.0298      |\n",
            "|     liveness     |       0.9331       | 0.8048000000000001 |       0.935        | 0.8370000000000001 |       0.0019       |       0.0322      |\n",
            "|   speechiness    | 0.8915440000000001 |       0.787        |       0.892        |       0.787        | 0.0004559999999999 |        0.0        |\n",
            "+------------------+--------------------+--------------------+--------------------+--------------------+--------------------+-------------------+\n"
          ]
        }
      ]
    },
    {
      "cell_type": "markdown",
      "source": [
        "Από την παραπάνω ανάλυση προκύπτουν κάποια ερωτήματα σημαντικά για τα επόμενα βήματα:\n",
        "- Έχουν τα χαρακτηριστικά μας περίπου το ίδιο εύρος;\n",
        "> Nαι , τα χαρακτηριστικά μας έχουν παρόμοιο εύρος, συγκεκριμένα από 0.64 έως 0..93 .\n",
        "- Σε πολλές εφαρμογές είναι σημαντικό τα χαρακτηριστικά να βρίσκονται στο εύρος [0, 1]. Ισχύει αυτό στην περίπτωσή μας; \n",
        "> Ναι. Αν παρατηρήσουμε τις min/max τιμές βλέπουμε ότι βρίσκονται για όλα τα χαρακτηριστικά στο [0,1]."
      ],
      "metadata": {
        "id": "jZH_VbsMM_TM"
      }
    },
    {
      "cell_type": "markdown",
      "metadata": {
        "id": "bYMke4uRZ8Ae"
      },
      "source": [
        "# 2o Μέρος: Υλοποίηση KNN\n",
        "Στο δεύτερο μέρος της άσκησης θα υλοποιήσετε τον αλγόριθμο KNN για ταξινόμηση. Υπενθυμίζεται από τις διαφάνειες το πλάνο σχεδιασμού για τον ταξινομητή k κοντινότερων γειτόνων:\n",
        "- Αποθηκεύουμε όλα τα δεδομένα ($Z_{train}$) στη μνήμη\n",
        "  - Τα δεδομένα μπορούν αποθηκευτούν σε έναν πίνακα $n\\times{p}$ με χρήση του numpy\n",
        "- Συγκρίνουμε την είσοδο με τα δεδομένα και βρίσκουμε τα k κοντινότερα ($k<n$) με βάση κάποια απόσταση.\n",
        "  - Όταν μας δίνεται ένα \"φρέσκο\" δείγμα ως διάνυσμα από χαρακτηριστικά $x_i$ χρειαζόμαστε μια συνάρτηση που να υπολογίζει την απόσταση $d(x_i,x_j)$, όπου $x_j$ είναι το διάνυσμα που αντιστοιχεί στα χαρακτηριστικά ενός δείγματος από τα δεδομένα εκπαίδευσης. Θα πειραματιστείτε με την ευκλείδια απόσταση και την απόσταση συνημιτόνου. Στη συνέχεια ταξινομούνται τα δεδομένα εκπαίδευσης ως προς την απόστασή τους από το $x_i$ και επιλέγονται τα $k$ κοντινότερα\n",
        "- Δίνουμε στην έξοδο την κλάση στην οποία ανήκει η πλειοψηφία των k κοντινότερων δεδομένων.\n",
        "\n",
        "Αφού κατασκευαστεί ο ταξινομητής θα αξιολογήσετε την επίδοσή του στα 100 πρώτα δείγματα του $Z_{test}$ για κάποιες τιμές του k που θα επιλέξετε εσείς, ξεκινώντας από $k=1$.\n",
        "\n",
        "Στην πράξη πολύ σπάνια θα χρειαστεί να υλοποιήσετε έναν αλγόριθμο μηχανικής μάθησης από το μηδέν, αφού υπάρχουν έτοιμες υλοποιήσεις, π.χ. σε πακέτα της python, οι οποίες είναι βελτιστοποιημένες και εύχρηστες. Το τελευταίο ζητούμενο  στο 2ο μέρος είναι να επαναλάβετε το παραπάνω πείραμα με την έτοιμη υλοποίηση του KNN που παρέχει η βιβλιοθήκη sklearn. Καλείστε να συγκρίνετε τα αποτελέσματα και τους χρόνους εκτέλεσης.\n",
        "\n",
        " Σας δίνεται η κλάση KNN η οποία αρχικοποιείται με ένα σύνολο από δεδομένα x, ετικέτες y και το k για τον αλγόριθμο. Καλείστε να συμπληρώσετε τον κώδικα που λείπει στις μεθόδους distance, get_knn, και classify.\n",
        "\n",
        "Η απόσταση συνημιτόνου μεταξύ δύο διανυσμάτων u,v ορίζεται ως: $$d(u,v)= 1 - \\frac{u\\cdot{v}}{||u||_2||v||_2}$$"
      ]
    },
    {
      "cell_type": "code",
      "execution_count": 119,
      "metadata": {
        "id": "EMPfT1jTZ51F"
      },
      "outputs": [],
      "source": [
        "from numpy import linalg\n",
        "class KNN:\n",
        "    def __init__(self, x, y, k, distance = \"euclidean\"):\n",
        "        self.x = x\n",
        "        self.y = y\n",
        "        self.k = k\n",
        "        self.distance = distance\n",
        "        \n",
        "    ## Compute the distance between the two vectors (2 rows of the DataFrame)\n",
        "    # hint: use np.linalg.norm for eucledian\n",
        "    # hint: use equation given above for cosine\n",
        "    def get_distance(self, row1, row2):\n",
        "      dist=0\n",
        "      if self.distance=='euclidian':\n",
        "        ##################\n",
        "        ## Your code below\n",
        "        dist = np.linalg.norm(row1 - row2)\n",
        "        ## Your code above\n",
        "        ##################\n",
        "      elif self.distance=='cosine':\n",
        "        ##################\n",
        "        ## Your code below\n",
        "        dist = 1 - (np.dot(row1, row2)/(np.linalg.norm(row1) * np.linalg.norm(row2))) \n",
        "        ## Your code above\n",
        "        ##################\n",
        "\n",
        "      return dist\n",
        "\n",
        "    ## Given a DataFrame row as a vector, returns indexes of k nearest neighbors\n",
        "    def get_knn(self, row):\n",
        "      distances = list()\n",
        "      x = self.x\n",
        "      k = self.k\n",
        "      \n",
        "      ##################\n",
        "      ## Your code below - populate the distances list\n",
        "      # hint: you can use a for loop\n",
        "      temp = len(x)\n",
        "      distances = np.zeros(temp)\n",
        "      for i in range(temp):\n",
        "        distances[i] = self.get_distance(row, x[i])\n",
        "      ## Your code above\n",
        "      ##################\n",
        "\n",
        "      # Sort distances, and return the indexes of k first elements\n",
        "      ans_indexes = np.argsort(distances)[:k]\n",
        "      return ans_indexes\n",
        "\n",
        "    ## Given a DataFrame row as a vector, classify it according to KNN\n",
        "    # hint: we have a list of k labels and want to return the most common one\n",
        "    def classify(self, row):\n",
        "      y = self.y\n",
        "      nn_labels = [y[i] for i in self.get_knn(row)]\n",
        "      \n",
        "      ##################\n",
        "      ## Your code below\n",
        "      \n",
        "      prediction = np.argmax(np.bincount(nn_labels))\n",
        "      ## Your code above\n",
        "      ###################\n",
        "      return prediction\n",
        "\n",
        "\n",
        "knn = KNN(x_train, y_train[:,0], k=5, distance='euclidian')"
      ]
    },
    {
      "cell_type": "markdown",
      "metadata": {
        "id": "B8-o5tn3aH0-"
      },
      "source": [
        "Τώρα που είναι έτοιμος ο ταξινομητής ας δούμε τι προβλέπει σε μεμονωμένα δείγματα."
      ]
    },
    {
      "cell_type": "markdown",
      "metadata": {
        "id": "XCiEi1UUaLzE"
      },
      "source": [
        "## Αξιολόγηση του KNN"
      ]
    },
    {
      "cell_type": "code",
      "execution_count": 120,
      "metadata": {
        "id": "tKw0oa1jaJei",
        "colab": {
          "base_uri": "https://localhost:8080/"
        },
        "outputId": "589c20fe-678a-4eda-f756-cf78db09b20c"
      },
      "outputs": [
        {
          "output_type": "stream",
          "name": "stdout",
          "text": [
            "[0, 2, 0, 0, 0, 1, 1, 2, 2, 2, 0, 2, 1, 0, 2, 0, 2, 2, 0, 1, 1, 0, 0, 1, 1, 1, 0, 0, 1, 2, 1, 2, 2, 1, 2, 0, 0, 2, 2, 1, 2, 1, 0, 2, 0, 2, 1, 0, 2, 0, 1, 1, 2, 2, 1, 0, 0, 2, 1, 2, 1, 1, 0, 0, 2, 1, 2, 0, 1, 1, 1, 0, 1, 1, 1, 1, 1, 1, 2, 0, 1, 2, 0, 0, 0, 1, 2, 2, 1, 0, 0, 1, 2, 1, 0, 1, 2, 0, 0, 1]\n"
          ]
        }
      ],
      "source": [
        "preds = [knn.classify(list(x_test[i])) for i in range(100)]\n",
        "print(preds)\n",
        "labels = [y_test[i][0] for i in range(100)]"
      ]
    },
    {
      "cell_type": "code",
      "execution_count": 121,
      "metadata": {
        "id": "yNVygiKCaNag",
        "colab": {
          "base_uri": "https://localhost:8080/"
        },
        "outputId": "3794eb4a-91b4-4e97-e4e9-b16808bcc8e3"
      },
      "outputs": [
        {
          "output_type": "stream",
          "name": "stdout",
          "text": [
            "precision: 0.6567840567840568\n",
            "recall: 0.6506659368728335\n",
            "f1: 0.6513681634317957\n",
            "accuracy: 0.65\n",
            "Confusion matrix: \n",
            "[[19  8  2]\n",
            " [10 22  4]\n",
            " [ 4  7 24]]\n",
            "\n",
            "Index     Features                                                                                             Labeled   Predicted\n",
            "0         [ 0.0238 0.63 0.9079999999999999 0.5920000000000001 0.1159999999999999 0.0326 ]                      1         0        \n",
            "2         [ 0.000692 0.512 0.9470000000000001 0.114 0.0283 0.0401 ]                                            1         0        \n",
            "7         [ 0.00246 0.6940000000000001 0.615 0.0267 0.136 0.1159999999999999 ]                                 1         2        \n",
            "11        [ 0.000356 0.7909999999999999 0.56 1.05e-06 0.107 0.23600000000000002 ]                              0         2        \n",
            "14        [ 0.009770000000000001 0.593 0.5489999999999999 2.78e-06 0.132 0.0376 ]                              1         2        \n",
            "15        [ 0.313 0.59 0.85 0.0 0.1159999999999999 0.0582 ]                                                    1         0        \n",
            "19        [ 0.1 0.414 0.41600000000000004 0.179 0.131 0.0251 ]                                                 2         1        \n",
            "20        [ 0.6920000000000001 0.447 0.3429999999999999 0.00067 0.0689 0.0289999999999999 ]                    0         1        \n",
            "24        [ 0.1969999999999999 0.868 0.657 0.0 0.105 0.0745 ]                                                  2         1        \n",
            "27        [ 0.00244 0.785 0.8640000000000001 0.0 0.0545 0.0729 ]                                               2         0        \n",
            "28        [ 0.9059999999999999 0.529 0.41200000000000003 0.1159999999999999 0.0888 0.037000000000000005 ]      0         1        \n",
            "35        [ 0.868 0.546 0.193 4.18e-05 0.087 0.0426 ]                                                          1         0        \n",
            "36        [ 0.0715 0.44 0.609 0.0 0.5820000000000001 0.0358 ]                                                  1         0        \n",
            "40        [ 0.138 0.888 0.69 0.0177 0.0918 0.215 ]                                                             0         2        \n",
            "42        [ 0.0187 0.535 0.777 1.62e-06 0.136 0.207 ]                                                          1         0        \n",
            "45        [ 0.152 0.561 0.65 0.0027 0.106 0.183 ]                                                              1         2        \n",
            "46        [ 0.36200000000000004 0.415 0.6729999999999999 0.0403 0.183 0.0464 ]                                 0         1        \n",
            "48        [ 0.0226 0.6659999999999999 0.775 0.0 0.254 0.0979 ]                                                 1         2        \n",
            "54        [ 0.3979999999999999 0.58 0.494 0.0482 0.105 0.0696 ]                                                0         1        \n",
            "65        [ 0.000547 0.5529999999999999 0.91 3.32e-05 0.0907 0.051 ]                                           0         1        \n",
            "67        [ 0.0677 0.8190000000000001 0.386 0.736 0.0988 0.0751 ]                                              2         0        \n",
            "69        [ 0.00796 0.54 0.9670000000000001 0.0 0.6829999999999999 0.162 ]                                     2         1        \n",
            "70        [ 0.261 0.525 0.599 0.021 0.7170000000000001 0.0581 ]                                                0         1        \n",
            "71        [ 0.00919 0.591 0.635 6.23e-06 0.519 0.0365 ]                                                        2         0        \n",
            "72        [ 0.00963 0.597 0.755 0.0578 0.099 0.0455 ]                                                          0         1        \n",
            "74        [ 0.00504 0.518 0.948 0.10400000000000001 0.228 0.0683 ]                                             2         1        \n",
            "75        [ 0.0724 0.629 0.608 0.0 0.0874 0.0771 ]                                                             2         1        \n",
            "79        [ 0.0218 0.653 0.598 0.843 0.102 0.0267 ]                                                            1         0        \n",
            "80        [ 0.19 0.6859999999999999 0.61 0.0009310000000000001 0.071 0.0262 ]                                  0         1        \n",
            "84        [ 0.011000000000000001 0.551 0.914 6.0899999999999996e-05 0.321 0.0934 ]                             1         0        \n",
            "88        [ 0.247 0.6890000000000001 0.612 0.0 0.2 0.0317 ]                                                    2         1        \n",
            "89        [ 0.0264 0.479 0.9229999999999999 0.136 0.43 0.124 ]                                                 1         0        \n",
            "90        [ 0.0191 0.523 0.8420000000000001 0.0 0.139 0.165 ]                                                  2         0        \n",
            "91        [ 0.0037 0.42100000000000004 0.978 0.0 0.111 0.302 ]                                                 2         1        \n",
            "97        [ 3.4e-05 0.359 0.893 0.0955 0.7509999999999999 0.0665 ]                                             1         0        \n"
          ]
        }
      ],
      "source": [
        "def stringify(alist):\n",
        "    string = \" \"\n",
        "    for a in alist:\n",
        "        string= string+str(a)+\" \"\n",
        "    return string\n",
        "\n",
        "x_test_string = [ \"[\"+stringify(i)+\"]\" for i in x_test ]\n",
        "eval = Evaluate(labels, preds, x_test_string)\n",
        "eval.get_evaluation_report()"
      ]
    },
    {
      "cell_type": "markdown",
      "metadata": {
        "id": "V7LP247HaU6m"
      },
      "source": [
        "## Έτοιμος ΚΝΝ classifier\n",
        "\n",
        "Όπως και με τους περισσότερους αλγορίθμους μηχανικής μάθησης, υπάρχουν έτοιμες βελτιστοποιημένες υλοποιήσεις. Παρακάτω δείχνουμε ένα παράδειγμα χρήσης του ταξινομητή ΚΝΝ που παρέχει η βιβλιοθήκη sklearn ([documentation](https://scikit-learn.org/stable/modules/generated/sklearn.neighbors.KNeighborsClassifier.html))."
      ]
    },
    {
      "cell_type": "code",
      "execution_count": 122,
      "metadata": {
        "id": "Os0WCL-QaOnr",
        "colab": {
          "base_uri": "https://localhost:8080/"
        },
        "outputId": "489f42fa-1abb-4230-d458-e2ca7e3d9c46"
      },
      "outputs": [
        {
          "output_type": "stream",
          "name": "stdout",
          "text": [
            "precision: 0.6567840567840568\n",
            "recall: 0.6506659368728335\n",
            "f1: 0.6513681634317957\n",
            "accuracy: 0.65\n",
            "Confusion matrix: \n",
            "[[19  8  2]\n",
            " [10 22  4]\n",
            " [ 4  7 24]]\n",
            "\n",
            "Index     Features                                                                                             Labeled   Predicted\n",
            "0         [ 0.0238 0.63 0.9079999999999999 0.5920000000000001 0.1159999999999999 0.0326 ]                      1         0        \n",
            "2         [ 0.000692 0.512 0.9470000000000001 0.114 0.0283 0.0401 ]                                            1         0        \n",
            "7         [ 0.00246 0.6940000000000001 0.615 0.0267 0.136 0.1159999999999999 ]                                 1         2        \n",
            "11        [ 0.000356 0.7909999999999999 0.56 1.05e-06 0.107 0.23600000000000002 ]                              0         2        \n",
            "14        [ 0.009770000000000001 0.593 0.5489999999999999 2.78e-06 0.132 0.0376 ]                              1         2        \n",
            "15        [ 0.313 0.59 0.85 0.0 0.1159999999999999 0.0582 ]                                                    1         0        \n",
            "19        [ 0.1 0.414 0.41600000000000004 0.179 0.131 0.0251 ]                                                 2         1        \n",
            "20        [ 0.6920000000000001 0.447 0.3429999999999999 0.00067 0.0689 0.0289999999999999 ]                    0         1        \n",
            "24        [ 0.1969999999999999 0.868 0.657 0.0 0.105 0.0745 ]                                                  2         1        \n",
            "27        [ 0.00244 0.785 0.8640000000000001 0.0 0.0545 0.0729 ]                                               2         0        \n",
            "28        [ 0.9059999999999999 0.529 0.41200000000000003 0.1159999999999999 0.0888 0.037000000000000005 ]      0         1        \n",
            "35        [ 0.868 0.546 0.193 4.18e-05 0.087 0.0426 ]                                                          1         0        \n",
            "36        [ 0.0715 0.44 0.609 0.0 0.5820000000000001 0.0358 ]                                                  1         0        \n",
            "40        [ 0.138 0.888 0.69 0.0177 0.0918 0.215 ]                                                             0         2        \n",
            "42        [ 0.0187 0.535 0.777 1.62e-06 0.136 0.207 ]                                                          1         0        \n",
            "45        [ 0.152 0.561 0.65 0.0027 0.106 0.183 ]                                                              1         2        \n",
            "46        [ 0.36200000000000004 0.415 0.6729999999999999 0.0403 0.183 0.0464 ]                                 0         1        \n",
            "48        [ 0.0226 0.6659999999999999 0.775 0.0 0.254 0.0979 ]                                                 1         2        \n",
            "54        [ 0.3979999999999999 0.58 0.494 0.0482 0.105 0.0696 ]                                                0         1        \n",
            "65        [ 0.000547 0.5529999999999999 0.91 3.32e-05 0.0907 0.051 ]                                           0         1        \n",
            "67        [ 0.0677 0.8190000000000001 0.386 0.736 0.0988 0.0751 ]                                              2         0        \n",
            "69        [ 0.00796 0.54 0.9670000000000001 0.0 0.6829999999999999 0.162 ]                                     2         1        \n",
            "70        [ 0.261 0.525 0.599 0.021 0.7170000000000001 0.0581 ]                                                0         1        \n",
            "71        [ 0.00919 0.591 0.635 6.23e-06 0.519 0.0365 ]                                                        2         0        \n",
            "72        [ 0.00963 0.597 0.755 0.0578 0.099 0.0455 ]                                                          0         1        \n",
            "74        [ 0.00504 0.518 0.948 0.10400000000000001 0.228 0.0683 ]                                             2         1        \n",
            "75        [ 0.0724 0.629 0.608 0.0 0.0874 0.0771 ]                                                             2         1        \n",
            "79        [ 0.0218 0.653 0.598 0.843 0.102 0.0267 ]                                                            1         0        \n",
            "80        [ 0.19 0.6859999999999999 0.61 0.0009310000000000001 0.071 0.0262 ]                                  0         1        \n",
            "84        [ 0.011000000000000001 0.551 0.914 6.0899999999999996e-05 0.321 0.0934 ]                             1         0        \n",
            "88        [ 0.247 0.6890000000000001 0.612 0.0 0.2 0.0317 ]                                                    2         1        \n",
            "89        [ 0.0264 0.479 0.9229999999999999 0.136 0.43 0.124 ]                                                 1         0        \n",
            "90        [ 0.0191 0.523 0.8420000000000001 0.0 0.139 0.165 ]                                                  2         0        \n",
            "91        [ 0.0037 0.42100000000000004 0.978 0.0 0.111 0.302 ]                                                 2         1        \n",
            "97        [ 3.4e-05 0.359 0.893 0.0955 0.7509999999999999 0.0665 ]                                             1         0        \n"
          ]
        },
        {
          "output_type": "stream",
          "name": "stderr",
          "text": [
            "/usr/local/lib/python3.7/dist-packages/sklearn/neighbors/_classification.py:198: DataConversionWarning: A column-vector y was passed when a 1d array was expected. Please change the shape of y to (n_samples,), for example using ravel().\n",
            "  return self._fit(X, y)\n"
          ]
        }
      ],
      "source": [
        "from sklearn.neighbors import KNeighborsClassifier\n",
        "\n",
        "k = 5\n",
        "knc = KNeighborsClassifier(n_neighbors = k)\n",
        "knc.fit(x_train, y_train)\n",
        "y_pred = knc.predict(x_test[:100])\n",
        "\n",
        "labels2 = [y_test[i][0] for i in range(100)]\n",
        "\n",
        "eval = Evaluate(labels2, y_pred, x_test_string)\n",
        "eval.get_evaluation_report()"
      ]
    },
    {
      "cell_type": "markdown",
      "metadata": {
        "id": "RcUBX2XMaZUd"
      },
      "source": [
        "## Σύγκριση υλοποιήσεων\n",
        "\n",
        "Στα παρακάτω κελιά πειραματιστείτε με τις δύο υλοποιήσεις (τη δική σας και την έτοιμη). Βεβαιωθείτε πως προκύπτουν τα ίδια αποτελέσματα για διάφορες τιμές του k (για ευκλείδια απόσταση) και μετρήστε τους χρόνους εκτέλεσης."
      ]
    },
    {
      "cell_type": "code",
      "source": [
        "knn = KNN(x_train, y_train[:,0], k=5, distance='euclidian')\n",
        "preds = [knn.classify(list(x_test[i])) for i in range(100)]\n",
        "print(preds)\n",
        "labels = [y_test[i][0] for i in range(100)]\n",
        "x_test_string = [ \"[\"+stringify(i)+\"]\" for i in x_test ]\n",
        "eval = Evaluate(labels, preds, x_test_string)\n",
        "eval.get_evaluation_report()"
      ],
      "metadata": {
        "colab": {
          "base_uri": "https://localhost:8080/"
        },
        "id": "TzIasHsrg9Wd",
        "outputId": "357f19c3-0e17-44fd-9190-60356ce1a149"
      },
      "execution_count": 130,
      "outputs": [
        {
          "output_type": "stream",
          "name": "stdout",
          "text": [
            "[0, 2, 0, 0, 0, 1, 1, 2, 2, 2, 0, 2, 1, 0, 2, 0, 2, 2, 0, 1, 1, 0, 0, 1, 1, 1, 0, 0, 1, 2, 1, 2, 2, 1, 2, 0, 0, 2, 2, 1, 2, 1, 0, 2, 0, 2, 1, 0, 2, 0, 1, 1, 2, 2, 1, 0, 0, 2, 1, 2, 1, 1, 0, 0, 2, 1, 2, 0, 1, 1, 1, 0, 1, 1, 1, 1, 1, 1, 2, 0, 1, 2, 0, 0, 0, 1, 2, 2, 1, 0, 0, 1, 2, 1, 0, 1, 2, 0, 0, 1]\n",
            "precision: 0.6567840567840568\n",
            "recall: 0.6506659368728335\n",
            "f1: 0.6513681634317957\n",
            "accuracy: 0.65\n",
            "Confusion matrix: \n",
            "[[19  8  2]\n",
            " [10 22  4]\n",
            " [ 4  7 24]]\n",
            "\n",
            "Index     Features                                                                                             Labeled   Predicted\n",
            "0         [ 0.0238 0.63 0.9079999999999999 0.5920000000000001 0.1159999999999999 0.0326 ]                      1         0        \n",
            "2         [ 0.000692 0.512 0.9470000000000001 0.114 0.0283 0.0401 ]                                            1         0        \n",
            "7         [ 0.00246 0.6940000000000001 0.615 0.0267 0.136 0.1159999999999999 ]                                 1         2        \n",
            "11        [ 0.000356 0.7909999999999999 0.56 1.05e-06 0.107 0.23600000000000002 ]                              0         2        \n",
            "14        [ 0.009770000000000001 0.593 0.5489999999999999 2.78e-06 0.132 0.0376 ]                              1         2        \n",
            "15        [ 0.313 0.59 0.85 0.0 0.1159999999999999 0.0582 ]                                                    1         0        \n",
            "19        [ 0.1 0.414 0.41600000000000004 0.179 0.131 0.0251 ]                                                 2         1        \n",
            "20        [ 0.6920000000000001 0.447 0.3429999999999999 0.00067 0.0689 0.0289999999999999 ]                    0         1        \n",
            "24        [ 0.1969999999999999 0.868 0.657 0.0 0.105 0.0745 ]                                                  2         1        \n",
            "27        [ 0.00244 0.785 0.8640000000000001 0.0 0.0545 0.0729 ]                                               2         0        \n",
            "28        [ 0.9059999999999999 0.529 0.41200000000000003 0.1159999999999999 0.0888 0.037000000000000005 ]      0         1        \n",
            "35        [ 0.868 0.546 0.193 4.18e-05 0.087 0.0426 ]                                                          1         0        \n",
            "36        [ 0.0715 0.44 0.609 0.0 0.5820000000000001 0.0358 ]                                                  1         0        \n",
            "40        [ 0.138 0.888 0.69 0.0177 0.0918 0.215 ]                                                             0         2        \n",
            "42        [ 0.0187 0.535 0.777 1.62e-06 0.136 0.207 ]                                                          1         0        \n",
            "45        [ 0.152 0.561 0.65 0.0027 0.106 0.183 ]                                                              1         2        \n",
            "46        [ 0.36200000000000004 0.415 0.6729999999999999 0.0403 0.183 0.0464 ]                                 0         1        \n",
            "48        [ 0.0226 0.6659999999999999 0.775 0.0 0.254 0.0979 ]                                                 1         2        \n",
            "54        [ 0.3979999999999999 0.58 0.494 0.0482 0.105 0.0696 ]                                                0         1        \n",
            "65        [ 0.000547 0.5529999999999999 0.91 3.32e-05 0.0907 0.051 ]                                           0         1        \n",
            "67        [ 0.0677 0.8190000000000001 0.386 0.736 0.0988 0.0751 ]                                              2         0        \n",
            "69        [ 0.00796 0.54 0.9670000000000001 0.0 0.6829999999999999 0.162 ]                                     2         1        \n",
            "70        [ 0.261 0.525 0.599 0.021 0.7170000000000001 0.0581 ]                                                0         1        \n",
            "71        [ 0.00919 0.591 0.635 6.23e-06 0.519 0.0365 ]                                                        2         0        \n",
            "72        [ 0.00963 0.597 0.755 0.0578 0.099 0.0455 ]                                                          0         1        \n",
            "74        [ 0.00504 0.518 0.948 0.10400000000000001 0.228 0.0683 ]                                             2         1        \n",
            "75        [ 0.0724 0.629 0.608 0.0 0.0874 0.0771 ]                                                             2         1        \n",
            "79        [ 0.0218 0.653 0.598 0.843 0.102 0.0267 ]                                                            1         0        \n",
            "80        [ 0.19 0.6859999999999999 0.61 0.0009310000000000001 0.071 0.0262 ]                                  0         1        \n",
            "84        [ 0.011000000000000001 0.551 0.914 6.0899999999999996e-05 0.321 0.0934 ]                             1         0        \n",
            "88        [ 0.247 0.6890000000000001 0.612 0.0 0.2 0.0317 ]                                                    2         1        \n",
            "89        [ 0.0264 0.479 0.9229999999999999 0.136 0.43 0.124 ]                                                 1         0        \n",
            "90        [ 0.0191 0.523 0.8420000000000001 0.0 0.139 0.165 ]                                                  2         0        \n",
            "91        [ 0.0037 0.42100000000000004 0.978 0.0 0.111 0.302 ]                                                 2         1        \n",
            "97        [ 3.4e-05 0.359 0.893 0.0955 0.7509999999999999 0.0665 ]                                             1         0        \n"
          ]
        }
      ]
    },
    {
      "cell_type": "markdown",
      "metadata": {
        "id": "IOmj0ryqW9nY"
      },
      "source": [
        "### Για τους χρόνους εκτέλεσης για k = 5 τρέχουμε τα 3 παρακάτω κελιά:"
      ]
    },
    {
      "cell_type": "code",
      "execution_count": 134,
      "metadata": {
        "id": "8Yz_Y_cpaWor",
        "colab": {
          "base_uri": "https://localhost:8080/"
        },
        "outputId": "acce7220-b426-4c6f-f6b6-f12403549e32"
      },
      "outputs": [
        {
          "output_type": "stream",
          "name": "stdout",
          "text": [
            "CPU times: user 10.1 s, sys: 881 ms, total: 11 s\n",
            "Wall time: 10.1 s\n"
          ]
        }
      ],
      "source": [
        "%%time\n",
        "knn = KNN(x_train, y_train[:,0], k=5, distance='euclidian')\n",
        "preds_5_euclidean = [knn.classify(list(x_test[i])) for i in range(100)]\n",
        "labels = [y_test[i][0] for i in range(100)]"
      ]
    },
    {
      "cell_type": "code",
      "source": [
        "eval = Evaluate(labels, preds_5_euclidean, x_test_string)\n",
        "eval.get_evaluation_report(analytic=False)"
      ],
      "metadata": {
        "colab": {
          "base_uri": "https://localhost:8080/"
        },
        "id": "dlvyNphYcfTU",
        "outputId": "2e2d8a7a-368b-485c-9a24-a4381b9cc92c"
      },
      "execution_count": 136,
      "outputs": [
        {
          "output_type": "stream",
          "name": "stdout",
          "text": [
            "precision: 0.6567840567840568\n",
            "recall: 0.6506659368728335\n",
            "f1: 0.6513681634317957\n",
            "accuracy: 0.65\n",
            "Confusion matrix: \n",
            "[[19  8  2]\n",
            " [10 22  4]\n",
            " [ 4  7 24]]\n"
          ]
        }
      ]
    },
    {
      "cell_type": "code",
      "execution_count": 137,
      "metadata": {
        "id": "683epgE6W9nY",
        "colab": {
          "base_uri": "https://localhost:8080/"
        },
        "outputId": "8fc9b823-48c6-4135-e25c-b6ba6fd6f7f6"
      },
      "outputs": [
        {
          "output_type": "stream",
          "name": "stdout",
          "text": [
            "CPU times: user 18.8 s, sys: 1.42 s, total: 20.3 s\n",
            "Wall time: 18.8 s\n"
          ]
        }
      ],
      "source": [
        "%%time\n",
        "knn = KNN(x_train, y_train[:,0], k = 5, distance = 'cosine')\n",
        "preds_5_cosine = [knn.classify(list(x_test[i])) for i in range(100)]"
      ]
    },
    {
      "cell_type": "code",
      "source": [
        "eval = Evaluate(labels, preds_5_cosine, x_test_string)\n",
        "eval.get_evaluation_report(analytic=False)"
      ],
      "metadata": {
        "colab": {
          "base_uri": "https://localhost:8080/"
        },
        "outputId": "fb79751f-db2d-47c9-f048-90eb4a472db1",
        "id": "r1ivAsoGh96K"
      },
      "execution_count": 138,
      "outputs": [
        {
          "output_type": "stream",
          "name": "stdout",
          "text": [
            "precision: 0.6488670488670489\n",
            "recall: 0.6436416712278782\n",
            "f1: 0.6414107631498935\n",
            "accuracy: 0.64\n",
            "Confusion matrix: \n",
            "[[20  7  2]\n",
            " [12 20  4]\n",
            " [ 5  6 24]]\n"
          ]
        }
      ]
    },
    {
      "cell_type": "code",
      "execution_count": 141,
      "metadata": {
        "id": "77s6o3ZkabCY",
        "colab": {
          "base_uri": "https://localhost:8080/"
        },
        "outputId": "7e8c05c8-8203-45c9-a1c4-be40fe64e5e0"
      },
      "outputs": [
        {
          "output_type": "stream",
          "name": "stdout",
          "text": [
            "CPU times: user 16.4 ms, sys: 0 ns, total: 16.4 ms\n",
            "Wall time: 16.4 ms\n"
          ]
        }
      ],
      "source": [
        "%%time\n",
        "knc = KNeighborsClassifier(n_neighbors = 5)\n",
        "knc.fit(x_train, y_train[:,0])\n",
        "y_pred_5 = knc.predict(x_test[:100])"
      ]
    },
    {
      "cell_type": "code",
      "source": [
        "eval = Evaluate(labels, y_pred_5, x_test_string)\n",
        "eval.get_evaluation_report(analytic=False)"
      ],
      "metadata": {
        "colab": {
          "base_uri": "https://localhost:8080/"
        },
        "outputId": "dbb51f30-0ccf-4ada-9c32-ae95bcaf6b6a",
        "id": "RuWZ8bexiHJ5"
      },
      "execution_count": 142,
      "outputs": [
        {
          "output_type": "stream",
          "name": "stdout",
          "text": [
            "precision: 0.6567840567840568\n",
            "recall: 0.6506659368728335\n",
            "f1: 0.6513681634317957\n",
            "accuracy: 0.65\n",
            "Confusion matrix: \n",
            "[[19  8  2]\n",
            " [10 22  4]\n",
            " [ 4  7 24]]\n"
          ]
        }
      ]
    },
    {
      "cell_type": "markdown",
      "metadata": {
        "id": "A6rb5SKKW9nY"
      },
      "source": [
        "### Για τους χρόνους εκτέλεσης για k = 50 τρέχουμε τα 3 παρακάτω κελιά:"
      ]
    },
    {
      "cell_type": "code",
      "execution_count": 143,
      "metadata": {
        "colab": {
          "base_uri": "https://localhost:8080/"
        },
        "outputId": "24abb6aa-6201-480a-89ec-2bc64809e232",
        "id": "cws687zTidSo"
      },
      "outputs": [
        {
          "output_type": "stream",
          "name": "stdout",
          "text": [
            "CPU times: user 10.2 s, sys: 920 ms, total: 11.1 s\n",
            "Wall time: 10.2 s\n"
          ]
        }
      ],
      "source": [
        "%%time\n",
        "knn = KNN(x_train, y_train[:,0], k=50, distance='euclidian')\n",
        "preds_50_euclidean = [knn.classify(list(x_test[i])) for i in range(100)]\n",
        "labels = [y_test[i][0] for i in range(100)]"
      ]
    },
    {
      "cell_type": "code",
      "source": [
        "eval = Evaluate(labels, preds_50_euclidean, x_test_string)\n",
        "eval.get_evaluation_report(analytic=False)"
      ],
      "metadata": {
        "colab": {
          "base_uri": "https://localhost:8080/"
        },
        "outputId": "daf46fda-d447-4fc0-bcd7-015ee8d65e83",
        "id": "3ceSNNXJidSo"
      },
      "execution_count": 144,
      "outputs": [
        {
          "output_type": "stream",
          "name": "stdout",
          "text": [
            "precision: 0.7539251207729469\n",
            "recall: 0.7322933771209633\n",
            "f1: 0.7363892786778359\n",
            "accuracy: 0.74\n",
            "Confusion matrix: \n",
            "[[18  9  2]\n",
            " [ 2 30  4]\n",
            " [ 3  6 26]]\n"
          ]
        }
      ]
    },
    {
      "cell_type": "code",
      "execution_count": 145,
      "metadata": {
        "colab": {
          "base_uri": "https://localhost:8080/"
        },
        "outputId": "a8baa843-e8c8-453a-b62d-66d62f692c6e",
        "id": "yJVs1llzidSo"
      },
      "outputs": [
        {
          "output_type": "stream",
          "name": "stdout",
          "text": [
            "CPU times: user 18.6 s, sys: 1.22 s, total: 19.8 s\n",
            "Wall time: 18.6 s\n"
          ]
        }
      ],
      "source": [
        "%%time\n",
        "knn = KNN(x_train, y_train[:,0], k = 50, distance = 'cosine')\n",
        "preds_50_cosine = [knn.classify(list(x_test[i])) for i in range(100)]"
      ]
    },
    {
      "cell_type": "code",
      "source": [
        "eval = Evaluate(labels, preds_50_cosine, x_test_string)\n",
        "eval.get_evaluation_report(analytic=False)"
      ],
      "metadata": {
        "colab": {
          "base_uri": "https://localhost:8080/"
        },
        "outputId": "6e2127b4-8782-4c1b-cf0b-04389f8dac0d",
        "id": "7YqMDJGIidSo"
      },
      "execution_count": 146,
      "outputs": [
        {
          "output_type": "stream",
          "name": "stdout",
          "text": [
            "precision: 0.6857142857142856\n",
            "recall: 0.6862616310892173\n",
            "f1: 0.6858848003273881\n",
            "accuracy: 0.69\n",
            "Confusion matrix: \n",
            "[[18  8  3]\n",
            " [ 7 24  5]\n",
            " [ 5  3 27]]\n"
          ]
        }
      ]
    },
    {
      "cell_type": "code",
      "execution_count": 147,
      "metadata": {
        "colab": {
          "base_uri": "https://localhost:8080/"
        },
        "outputId": "3cdf8072-5f0c-417d-bfb3-65afe57a57b4",
        "id": "ig8IeMkdidSo"
      },
      "outputs": [
        {
          "output_type": "stream",
          "name": "stdout",
          "text": [
            "CPU times: user 18.9 ms, sys: 0 ns, total: 18.9 ms\n",
            "Wall time: 20.2 ms\n"
          ]
        }
      ],
      "source": [
        "%%time\n",
        "knc = KNeighborsClassifier(n_neighbors = 50)\n",
        "knc.fit(x_train, y_train[:,0])\n",
        "y_pred_50 = knc.predict(x_test[:100])"
      ]
    },
    {
      "cell_type": "code",
      "source": [
        "eval = Evaluate(labels, y_pred_50, x_test_string)\n",
        "eval.get_evaluation_report(analytic=False)"
      ],
      "metadata": {
        "colab": {
          "base_uri": "https://localhost:8080/"
        },
        "outputId": "fa858101-ae5c-42c9-881b-7db9dae25f2f",
        "id": "xiDP0hdOidSp"
      },
      "execution_count": 148,
      "outputs": [
        {
          "output_type": "stream",
          "name": "stdout",
          "text": [
            "precision: 0.7539251207729469\n",
            "recall: 0.7322933771209633\n",
            "f1: 0.7363892786778359\n",
            "accuracy: 0.74\n",
            "Confusion matrix: \n",
            "[[18  9  2]\n",
            " [ 2 30  4]\n",
            " [ 3  6 26]]\n"
          ]
        }
      ]
    },
    {
      "cell_type": "markdown",
      "metadata": {
        "id": "bc9ySKoRaek-"
      },
      "source": [
        "## Σχολιασμός\n",
        "* Παρατηρούμε πως ο ΚΝΝ του scikit εκπαιδεύεται πολύ πιο γρήγορα από τη δική μου υλοποιήση.\n",
        "* Η euclidean απόσταση απαιτεί λιγότερο χρόνο από ότι η cosine.\n",
        "* H μετάβαση από k=5 σε k=50 :\n",
        "  * Δεν φαίνεται να αλλάζει τους χρόνους στη δική μας υλοποίηση και αυξάνει ελάχιστα τον χρόνο στον ΚΝΝ του scikit.\n",
        "  * Βελτιώνει τις μετρικές επίδοσης.\n"
      ]
    },
    {
      "cell_type": "markdown",
      "metadata": {
        "id": "Xe17UwwLag5Y"
      },
      "source": [
        "# 3ο Μέρος: Naive Bayes\n",
        "Στο τρίτο μέρος της άσκησης θα υλοποιήσετε τον αλγόριθμο Naive Bayes. Ας θυμηθούμε από τις διαφάνειες:\n",
        "\n",
        "**Υποθέσεις:**\n",
        "- Τα χαρακτηριστικά είναι boolean αντί για συνεχή, δηλαδή παίρνουν δύο τιμές 0 ή 1. Συνεπώς, χρειάζεται να τροποποιήσουμε τα χαρακτηριστικά του dataset μας.\n",
        "  - Για το συγκεκριμένο πρόβλημα μπορούμε να 'σπάσουμε' τις τιμές κάθε χαρακτηριστικού σε N διαφορετικά bins. Για παράδειγμα, για ένα χαρακτηριστικό που οι τιμές του κυμαίνονται στο [0, 1], για Ν=5, θα έχουμε τα ακόλουθα bins: [0, 0.2), [0.2, 0.4), [0.4, 0.6), [0.6, 0.8), [0.8, 1]. (Γι αυτό το λόγο στα προηγούμενα βήματα αναφέραμε ότι είναι σημαντικό να έχουμε τα χαρακτηριστικά μας στο [0, 1]!)\n",
        "  \n",
        "- Η πιθανότητα ένα στοιχείο με χαρακτηριστικά x να ανήκει στην κλάση i δίνεται από τον τύπο:\n",
        "$$p(i|x)=\\frac{p(i)\\cdot{\\prod_{k=1}^p}p(x^{(k)}|i)}{\\sum_{j=1}^pp(x^{(k)}|j)}$$\n",
        "- Για να ταξινομήσουμε ένα διάνυσμα χαρακτηριστικών x σε μια κλάση i επιλέγουμε την κλάση που μεγιστοποιεί την παραπάνω πιθανότητα\n",
        "  - Μπορούμε για τη σύγκριση να αγνοήσουμε τον παρονομαστή, αφού για όλες τις κλάσεις θα είναι ίδιος"
      ]
    },
    {
      "cell_type": "code",
      "execution_count": 166,
      "metadata": {
        "id": "GNbBhsg2ach8"
      },
      "outputs": [],
      "source": [
        "# κάνουμε κάθε μεταβλήτη του συνόλου εκπαίδευσης διακρίτη σε σε διαστήματα \n",
        "\n",
        "def discretize(x, num_of_classes = 5):  \n",
        "    x_r = []\n",
        "    for row in x:\n",
        "        discrete = []\n",
        "        for i, feature in enumerate(row):\n",
        "            discrete_feature = [0] * num_of_classes\n",
        "            for j, v in enumerate(np.linspace(0, 1, num_of_classes + 1)):\n",
        "                if float(feature) < v:\n",
        "                    break\n",
        "            discrete_feature[j-1] = 1\n",
        "            discrete += discrete_feature\n",
        "        x_r.append(discrete)\n",
        "    return np.array(x_r)\n",
        "\n",
        "x_train_r = discretize(x_train)\n",
        "x_test_r = discretize(x_test)"
      ]
    },
    {
      "cell_type": "markdown",
      "metadata": {
        "id": "lFORd6XJakZl"
      },
      "source": [
        "Παρακάτω σας δίνεται η κλάση NaiveBayes που υλοποιεί τον αλγόριθμο. Καλείστε αρχικά να υπολογίσετε την πιθανότητα $p(x^{(k)}|i)$ για διάνυσμα χαρακτηριστκών $x$ και κατηγορία $i$ στη μέθοδο compute_probabilities. Στη συνέχεια θα υπολογίσετε την πιθανότητα $p(i|x)$ στη μέθοδο predict."
      ]
    },
    {
      "cell_type": "code",
      "execution_count": 182,
      "metadata": {
        "id": "ufKo5f5yaiqH"
      },
      "outputs": [],
      "source": [
        "class NaiveBayes:\n",
        "    def __init__(self, x, y):\n",
        "        self.x = x\n",
        "        self.y = y\n",
        "        ## pC is a vector with the probability of each class\n",
        "        self.pC = np.zeros((len(genres),))\n",
        "        ## pxC is an array with all probabilities p(xi|C)\n",
        "        self.pxC = np.zeros((x.shape[-1], len(genres)))\n",
        "        ## Compute the probabilities\n",
        "        self.compute_probabilities()\n",
        "\n",
        "    def compute_probabilities(self):\n",
        "        ## Compute p(C) for each class\n",
        "        for label in self.y: \n",
        "          self.pC[label] += 1\n",
        "        self.pC = self.pC / self.y.shape[0]\n",
        "\n",
        "        ## Compute p(xi|C) for each feature xi and class C\n",
        "        # hint: you can use one or more for loops\n",
        "        ###################\n",
        "        ## Your code below\n",
        "        for i in range(self.x.shape[0]):\n",
        "          label = self.y[i]\n",
        "          features = self.x[i]\n",
        "          for j in range(self.x.shape[1]):\n",
        "            if features[j]:\n",
        "              self.pxC[j][label] += 1\n",
        "        \n",
        "        for k in range(len(genres)):\n",
        "          for i in range(x.shape[-1]):\n",
        "            self.pxC[i][k] /= self.pC[k] * self.y.shape[0]\n",
        "        return self.pxC\n",
        "\n",
        "        \n",
        "        ## Your code above\n",
        "        ##################\n",
        "\n",
        "    def predict(self, x):\n",
        "        ## ~Probability of x belonging to each class\n",
        "        ## (not actucal probability since we ignore denominator)\n",
        "        pcX = np.ones((len(genres),))\n",
        "        xsize = self.x.shape[-1]\n",
        "        for i in range(len(genres)):\n",
        "          # hint: We have probabilities p({x_j=1}|i) in self.pxC\n",
        "          # We also need p({x_j=0}|i) for computing p(x|i)\n",
        "          #################\n",
        "          ## Your code below\n",
        "\n",
        "          ginom_list = [self.pxC[feature_idx][i] for feature_idx in range(xsize) if x[feature_idx]] \n",
        "          ginom = 1\n",
        "\n",
        "          for g in ginom_list:\n",
        "            if g:\n",
        "              ginom *= g\n",
        "\n",
        "          pcX[i] = self.pC[i] * ginom\n",
        "          ## Your code above\n",
        "          ##################\n",
        "        return np.argmax(pcX)"
      ]
    },
    {
      "cell_type": "markdown",
      "metadata": {
        "id": "cO9h_Q8bbAgF"
      },
      "source": [
        "## Αξιολόγηση του Naive Bayes"
      ]
    },
    {
      "cell_type": "code",
      "execution_count": 184,
      "metadata": {
        "id": "2PzuaP48amDv",
        "colab": {
          "base_uri": "https://localhost:8080/"
        },
        "outputId": "cb689559-ca5f-4385-f183-3705397cbc44"
      },
      "outputs": [
        {
          "output_type": "stream",
          "name": "stdout",
          "text": [
            "precision: 0.7455165692007797\n",
            "recall: 0.7095694216383871\n",
            "f1: 0.714426476554802\n",
            "accuracy: 0.72\n",
            "Confusion matrix: \n",
            "[[16  9  4]\n",
            " [ 2 29  5]\n",
            " [ 1  7 27]]\n",
            "\n",
            "Index     Features                                                                                             Labeled   Predicted\n",
            "0         [ 0.0238 0.63 0.9079999999999999 0.5920000000000001 0.1159999999999999 0.0326 ]                      1         0        \n",
            "7         [ 0.00246 0.6940000000000001 0.615 0.0267 0.136 0.1159999999999999 ]                                 1         2        \n",
            "11        [ 0.000356 0.7909999999999999 0.56 1.05e-06 0.107 0.23600000000000002 ]                              0         2        \n",
            "19        [ 0.1 0.414 0.41600000000000004 0.179 0.131 0.0251 ]                                                 2         1        \n",
            "20        [ 0.6920000000000001 0.447 0.3429999999999999 0.00067 0.0689 0.0289999999999999 ]                    0         1        \n",
            "21        [ 0.00161 0.78 0.6940000000000001 0.187 0.254 0.153 ]                                                0         2        \n",
            "22        [ 0.0312 0.7290000000000001 0.9259999999999999 0.0213 0.153 0.0423 ]                                 0         1        \n",
            "27        [ 0.00244 0.785 0.8640000000000001 0.0 0.0545 0.0729 ]                                               2         1        \n",
            "28        [ 0.9059999999999999 0.529 0.41200000000000003 0.1159999999999999 0.0888 0.037000000000000005 ]      0         1        \n",
            "30        [ 0.0258 0.6629999999999999 0.569 0.105 0.0247 0.0431 ]                                              1         2        \n",
            "34        [ 0.6970000000000001 0.612 0.536 0.0 0.131 0.157 ]                                                   2         1        \n",
            "40        [ 0.138 0.888 0.69 0.0177 0.0918 0.215 ]                                                             0         2        \n",
            "41        [ 0.43 0.622 0.48 3.94e-06 0.177 0.031 ]                                                             1         2        \n",
            "42        [ 0.0187 0.535 0.777 1.62e-06 0.136 0.207 ]                                                          1         2        \n",
            "46        [ 0.36200000000000004 0.415 0.6729999999999999 0.0403 0.183 0.0464 ]                                 0         1        \n",
            "48        [ 0.0226 0.6659999999999999 0.775 0.0 0.254 0.0979 ]                                                 1         2        \n",
            "54        [ 0.3979999999999999 0.58 0.494 0.0482 0.105 0.0696 ]                                                0         1        \n",
            "63        [ 0.0005809999999999 0.433 0.966 0.0664 0.0855 0.1689999999999999 ]                                  0         1        \n",
            "65        [ 0.000547 0.5529999999999999 0.91 3.32e-05 0.0907 0.051 ]                                           0         1        \n",
            "67        [ 0.0677 0.8190000000000001 0.386 0.736 0.0988 0.0751 ]                                              2         0        \n",
            "69        [ 0.00796 0.54 0.9670000000000001 0.0 0.6829999999999999 0.162 ]                                     2         1        \n",
            "70        [ 0.261 0.525 0.599 0.021 0.7170000000000001 0.0581 ]                                                0         1        \n",
            "71        [ 0.00919 0.591 0.635 6.23e-06 0.519 0.0365 ]                                                        2         1        \n",
            "72        [ 0.00963 0.597 0.755 0.0578 0.099 0.0455 ]                                                          0         1        \n",
            "74        [ 0.00504 0.518 0.948 0.10400000000000001 0.228 0.0683 ]                                             2         1        \n",
            "79        [ 0.0218 0.653 0.598 0.843 0.102 0.0267 ]                                                            1         0        \n",
            "80        [ 0.19 0.6859999999999999 0.61 0.0009310000000000001 0.071 0.0262 ]                                  0         2        \n",
            "90        [ 0.0191 0.523 0.8420000000000001 0.0 0.139 0.165 ]                                                  2         1        \n"
          ]
        }
      ],
      "source": [
        "nb = NaiveBayes(x_train_r, y_train[:,0])\n",
        "preds = [nb.predict(i) for i in x_test_r[:100]]\n",
        "eval = Evaluate(y_test[:100,0], preds, x_test_string)\n",
        "eval.get_evaluation_report()"
      ]
    },
    {
      "cell_type": "code",
      "source": [
        "print(x_train_r.shape)"
      ],
      "metadata": {
        "colab": {
          "base_uri": "https://localhost:8080/"
        },
        "id": "qcxpCwS2J0r_",
        "outputId": "6459178c-f68e-490e-c3d4-4719b6b65391"
      },
      "execution_count": 169,
      "outputs": [
        {
          "output_type": "stream",
          "name": "stdout",
          "text": [
            "(9471, 30)\n"
          ]
        }
      ]
    },
    {
      "cell_type": "markdown",
      "metadata": {
        "id": "xMUHg-dubFa2"
      },
      "source": [
        "## Έτοιμος Naive Bayes\n",
        "\n",
        "Όπως με τους περισσότερους αλγορίθμους μηχανικής μάθησης, υπάρχουν έτοιμες βελτιστοποιημένες υλοποιήσεις για τον Naive Bayes. Παρακάτω ο Gaussian Naive Bayes από το Sklearn. Σε αντίθεση με τη δική μας υλοποίηση, ο συγκεκριμένος δουλεύει και με συνεχή δεδομένα, αφού πρώτα κάνει την υπόθεση πως κάθε χαρακτηριστικό ακολουθεί κανονική κατανομή ([documentation](https://scikit-learn.org/stable/modules/generated/sklearn.naive_bayes.GaussianNB.html))."
      ]
    },
    {
      "cell_type": "code",
      "execution_count": 185,
      "metadata": {
        "id": "qNir3SOIW9nb",
        "colab": {
          "base_uri": "https://localhost:8080/"
        },
        "outputId": "fb468f31-1ce3-4b42-c0d6-3f65dd751af0"
      },
      "outputs": [
        {
          "output_type": "stream",
          "name": "stdout",
          "text": [
            "precision: 0.7231976988074549\n",
            "recall: 0.7100985221674877\n",
            "f1: 0.7114350790821379\n",
            "accuracy: 0.72\n",
            "Confusion matrix: \n",
            "[[16 10  3]\n",
            " [ 4 27  5]\n",
            " [ 2  4 29]]\n",
            "\n",
            "Index     Features                                                                                             Labeled   Predicted\n",
            "0         [ 0.0238 0.63 0.9079999999999999 0.5920000000000001 0.1159999999999999 0.0326 ]                      1         0        \n",
            "7         [ 0.00246 0.6940000000000001 0.615 0.0267 0.136 0.1159999999999999 ]                                 1         2        \n",
            "11        [ 0.000356 0.7909999999999999 0.56 1.05e-06 0.107 0.23600000000000002 ]                              0         2        \n",
            "18        [ 0.0015300000000000001 0.51 0.7509999999999999 0.24100000000000002 0.13 0.0303 ]                    0         1        \n",
            "19        [ 0.1 0.414 0.41600000000000004 0.179 0.131 0.0251 ]                                                 2         1        \n",
            "20        [ 0.6920000000000001 0.447 0.3429999999999999 0.00067 0.0689 0.0289999999999999 ]                    0         1        \n",
            "22        [ 0.0312 0.7290000000000001 0.9259999999999999 0.0213 0.153 0.0423 ]                                 0         1        \n",
            "28        [ 0.9059999999999999 0.529 0.41200000000000003 0.1159999999999999 0.0888 0.037000000000000005 ]      0         1        \n",
            "40        [ 0.138 0.888 0.69 0.0177 0.0918 0.215 ]                                                             0         2        \n",
            "42        [ 0.0187 0.535 0.777 1.62e-06 0.136 0.207 ]                                                          1         2        \n",
            "45        [ 0.152 0.561 0.65 0.0027 0.106 0.183 ]                                                              1         2        \n",
            "46        [ 0.36200000000000004 0.415 0.6729999999999999 0.0403 0.183 0.0464 ]                                 0         1        \n",
            "48        [ 0.0226 0.6659999999999999 0.775 0.0 0.254 0.0979 ]                                                 1         2        \n",
            "54        [ 0.3979999999999999 0.58 0.494 0.0482 0.105 0.0696 ]                                                0         1        \n",
            "57        [ 0.0344 0.625 0.5329999999999999 0.0 0.126 0.0658 ]                                                 2         1        \n",
            "62        [ 0.0063 0.648 0.684 0.29100000000000004 0.109 0.0408 ]                                              0         1        \n",
            "65        [ 0.000547 0.5529999999999999 0.91 3.32e-05 0.0907 0.051 ]                                           0         1        \n",
            "67        [ 0.0677 0.8190000000000001 0.386 0.736 0.0988 0.0751 ]                                              2         0        \n",
            "69        [ 0.00796 0.54 0.9670000000000001 0.0 0.6829999999999999 0.162 ]                                     2         0        \n",
            "70        [ 0.261 0.525 0.599 0.021 0.7170000000000001 0.0581 ]                                                0         1        \n",
            "71        [ 0.00919 0.591 0.635 6.23e-06 0.519 0.0365 ]                                                        2         1        \n",
            "72        [ 0.00963 0.597 0.755 0.0578 0.099 0.0455 ]                                                          0         1        \n",
            "74        [ 0.00504 0.518 0.948 0.10400000000000001 0.228 0.0683 ]                                             2         1        \n",
            "79        [ 0.0218 0.653 0.598 0.843 0.102 0.0267 ]                                                            1         0        \n",
            "80        [ 0.19 0.6859999999999999 0.61 0.0009310000000000001 0.071 0.0262 ]                                  0         2        \n",
            "89        [ 0.0264 0.479 0.9229999999999999 0.136 0.43 0.124 ]                                                 1         0        \n",
            "97        [ 3.4e-05 0.359 0.893 0.0955 0.7509999999999999 0.0665 ]                                             1         0        \n",
            "99        [ 0.163 0.72 0.391 8.290000000000001e-05 0.046 0.0342 ]                                              1         2        \n"
          ]
        },
        {
          "output_type": "stream",
          "name": "stderr",
          "text": [
            "/usr/local/lib/python3.7/dist-packages/sklearn/utils/validation.py:993: DataConversionWarning: A column-vector y was passed when a 1d array was expected. Please change the shape of y to (n_samples, ), for example using ravel().\n",
            "  y = column_or_1d(y, warn=True)\n"
          ]
        }
      ],
      "source": [
        "from sklearn.naive_bayes import GaussianNB\n",
        "\n",
        "gnb = GaussianNB()\n",
        "y_pred = gnb.fit(x_train, y_train).predict(x_test[:100])\n",
        "\n",
        "\n",
        "eval = Evaluate(y_test[:100,0], y_pred, x_test_string)\n",
        "eval.get_evaluation_report()"
      ]
    },
    {
      "cell_type": "markdown",
      "metadata": {
        "id": "KaecLreybI-3"
      },
      "source": [
        "## Σύγκριση υλοποιήσεων\n",
        "\n",
        "Όμοια με πριν θα συγκρίνετε τα αποτελέσματα και τους χρόνους εκτέλεσης για τις δύο υλοποιήσεις. Σχολιάστε την επίδοση σε κάθε περίπτωση. Ποιες από τις παραδοχές που κάναμε δεν ισχύουν;"
      ]
    },
    {
      "cell_type": "markdown",
      "source": [
        "### Για 10 διαστήματα:"
      ],
      "metadata": {
        "id": "-A3vmWV-knd6"
      }
    },
    {
      "cell_type": "code",
      "source": [
        "x_train_10 = discretize(x_train, num_of_classes=10)\n",
        "x_test_10 = discretize(x_test, num_of_classes=10)"
      ],
      "metadata": {
        "id": "JcIZTlc_myC8"
      },
      "execution_count": 186,
      "outputs": []
    },
    {
      "cell_type": "code",
      "execution_count": 187,
      "metadata": {
        "id": "Lz-k1DL-bG9v",
        "colab": {
          "base_uri": "https://localhost:8080/"
        },
        "outputId": "c4c4f830-4f35-4bb8-b907-512bd088acdf"
      },
      "outputs": [
        {
          "output_type": "stream",
          "name": "stdout",
          "text": [
            "CPU times: user 167 ms, sys: 1.62 ms, total: 169 ms\n",
            "Wall time: 170 ms\n"
          ]
        }
      ],
      "source": [
        "%%time\n",
        "nb = NaiveBayes(x_train_10, y_train[:,0])\n",
        "my_preds_10 = [ nb.predict(i) for i in x_test_10[:100]]"
      ]
    },
    {
      "cell_type": "code",
      "source": [
        "eval = Evaluate(y_test[:100,0], my_preds_10, x_test_string)\n",
        "eval.get_evaluation_report(analytic=False)"
      ],
      "metadata": {
        "colab": {
          "base_uri": "https://localhost:8080/"
        },
        "id": "jaq3pazzkArZ",
        "outputId": "2ed64830-2d33-4e06-fdf3-9e2bcdf4a073"
      },
      "execution_count": 188,
      "outputs": [
        {
          "output_type": "stream",
          "name": "stdout",
          "text": [
            "precision: 0.7019813519813519\n",
            "recall: 0.6854679802955665\n",
            "f1: 0.6893356643356644\n",
            "accuracy: 0.69\n",
            "Confusion matrix: \n",
            "[[18  9  2]\n",
            " [ 5 27  4]\n",
            " [ 3  8 24]]\n"
          ]
        }
      ]
    },
    {
      "cell_type": "code",
      "execution_count": 192,
      "metadata": {
        "id": "neUU0A-AW9nc",
        "colab": {
          "base_uri": "https://localhost:8080/"
        },
        "outputId": "8ea586e7-8ecc-467b-86e9-9785f6f5d653"
      },
      "outputs": [
        {
          "output_type": "stream",
          "name": "stdout",
          "text": [
            "CPU times: user 5.5 ms, sys: 87 µs, total: 5.58 ms\n",
            "Wall time: 5.61 ms\n"
          ]
        }
      ],
      "source": [
        "%%time\n",
        "gnb = GaussianNB()\n",
        "y_pred_10 = gnb.fit(x_train, y_train[:,0]).predict(x_test[:100])"
      ]
    },
    {
      "cell_type": "code",
      "source": [
        "eval = Evaluate(y_test[:100,0], y_pred_10, x_test_string)\n",
        "eval.get_evaluation_report(analytic=False)"
      ],
      "metadata": {
        "colab": {
          "base_uri": "https://localhost:8080/"
        },
        "id": "HsWnqs9TkXu-",
        "outputId": "4527d90d-b684-420d-e719-93298f586a00"
      },
      "execution_count": 193,
      "outputs": [
        {
          "output_type": "stream",
          "name": "stdout",
          "text": [
            "precision: 0.7231976988074549\n",
            "recall: 0.7100985221674877\n",
            "f1: 0.7114350790821379\n",
            "accuracy: 0.72\n",
            "Confusion matrix: \n",
            "[[16 10  3]\n",
            " [ 4 27  5]\n",
            " [ 2  4 29]]\n"
          ]
        }
      ]
    },
    {
      "cell_type": "markdown",
      "source": [
        "### Για 15 διαστήματα:"
      ],
      "metadata": {
        "id": "yBsuLvHckwe3"
      }
    },
    {
      "cell_type": "code",
      "source": [
        "x_train_15 = discretize(x_train, num_of_classes=15)\n",
        "x_test_15 = discretize(x_test, num_of_classes=15)"
      ],
      "metadata": {
        "id": "NUNa_rj2k99K"
      },
      "execution_count": 176,
      "outputs": []
    },
    {
      "cell_type": "code",
      "execution_count": 194,
      "metadata": {
        "colab": {
          "base_uri": "https://localhost:8080/"
        },
        "outputId": "56bbf72b-94d5-4cc4-cae9-1d957bd8e954",
        "id": "bUtjuMxfk3Ol"
      },
      "outputs": [
        {
          "output_type": "stream",
          "name": "stdout",
          "text": [
            "CPU times: user 206 ms, sys: 0 ns, total: 206 ms\n",
            "Wall time: 205 ms\n"
          ]
        }
      ],
      "source": [
        "%%time\n",
        "nb = NaiveBayes(x_train_15,y_train[:,0])\n",
        "my_preds_15 = [ nb.predict(i) for i in x_test_15[:100]]"
      ]
    },
    {
      "cell_type": "code",
      "source": [
        "eval = Evaluate(y_test[:100,0], my_preds_15, x_test_string)\n",
        "eval.get_evaluation_report(analytic=False)"
      ],
      "metadata": {
        "colab": {
          "base_uri": "https://localhost:8080/"
        },
        "outputId": "892e2dc9-8cb3-4806-9c5f-156b2b7fca80",
        "id": "rCoAic_Kk3Ol"
      },
      "execution_count": 195,
      "outputs": [
        {
          "output_type": "stream",
          "name": "stdout",
          "text": [
            "precision: 0.7056628056628057\n",
            "recall: 0.7047801496077358\n",
            "f1: 0.70511209530676\n",
            "accuracy: 0.71\n",
            "Confusion matrix: \n",
            "[[18  7  4]\n",
            " [ 6 26  4]\n",
            " [ 4  4 27]]\n"
          ]
        }
      ]
    },
    {
      "cell_type": "code",
      "execution_count": 196,
      "metadata": {
        "colab": {
          "base_uri": "https://localhost:8080/"
        },
        "outputId": "0918a8da-1c6a-4f46-87f8-641ea28e3198",
        "id": "UOByRMxgk3Ol"
      },
      "outputs": [
        {
          "output_type": "stream",
          "name": "stdout",
          "text": [
            "CPU times: user 5.6 ms, sys: 936 µs, total: 6.54 ms\n",
            "Wall time: 6.39 ms\n"
          ]
        }
      ],
      "source": [
        "%%time\n",
        "gnb = GaussianNB()\n",
        "y_pred_15 = gnb.fit(x_train, y_train[:,0]).predict(x_test[:100])"
      ]
    },
    {
      "cell_type": "code",
      "source": [
        "eval = Evaluate(y_test[:100,0], y_pred_15, x_test_string)\n",
        "eval.get_evaluation_report(analytic=False)"
      ],
      "metadata": {
        "colab": {
          "base_uri": "https://localhost:8080/"
        },
        "outputId": "62b3f48b-1b56-4bd8-90ab-7e7cdbe4de1f",
        "id": "Huova8uok3Om"
      },
      "execution_count": 197,
      "outputs": [
        {
          "output_type": "stream",
          "name": "stdout",
          "text": [
            "precision: 0.7231976988074549\n",
            "recall: 0.7100985221674877\n",
            "f1: 0.7114350790821379\n",
            "accuracy: 0.72\n",
            "Confusion matrix: \n",
            "[[16 10  3]\n",
            " [ 4 27  5]\n",
            " [ 2  4 29]]\n"
          ]
        }
      ]
    },
    {
      "cell_type": "markdown",
      "source": [
        "### Για 20 διαστήματα:"
      ],
      "metadata": {
        "id": "hGrMF7Y1qKz4"
      }
    },
    {
      "cell_type": "code",
      "source": [
        "x_train_20 = discretize(x_train, num_of_classes=20)\n",
        "x_test_20 = discretize(x_test, num_of_classes=20)"
      ],
      "metadata": {
        "id": "WaxxxkC7qK0B"
      },
      "execution_count": 198,
      "outputs": []
    },
    {
      "cell_type": "code",
      "execution_count": 199,
      "metadata": {
        "colab": {
          "base_uri": "https://localhost:8080/"
        },
        "outputId": "cebb8a51-8728-49b7-e42b-a13207c47edf",
        "id": "sTOHqRvZqK0C"
      },
      "outputs": [
        {
          "output_type": "stream",
          "name": "stdout",
          "text": [
            "CPU times: user 253 ms, sys: 1.69 ms, total: 255 ms\n",
            "Wall time: 254 ms\n"
          ]
        }
      ],
      "source": [
        "%%time\n",
        "nb = NaiveBayes(x_train_20,y_train[:,0])\n",
        "my_preds_20 = [ nb.predict(i) for i in x_test_20[:100]]"
      ]
    },
    {
      "cell_type": "code",
      "source": [
        "eval = Evaluate(y_test[:100,0], my_preds_20, x_test_string)\n",
        "eval.get_evaluation_report(analytic=False)"
      ],
      "metadata": {
        "colab": {
          "base_uri": "https://localhost:8080/"
        },
        "outputId": "4585a373-a345-4f64-f1c5-bb09c652ce8b",
        "id": "uv0yz0E7qK0C"
      },
      "execution_count": 201,
      "outputs": [
        {
          "output_type": "stream",
          "name": "stdout",
          "text": [
            "precision: 0.7263292263292264\n",
            "recall: 0.7232986681262544\n",
            "f1: 0.7241210870313038\n",
            "accuracy: 0.73\n",
            "Confusion matrix: \n",
            "[[18  8  3]\n",
            " [ 5 28  3]\n",
            " [ 5  3 27]]\n"
          ]
        }
      ]
    },
    {
      "cell_type": "code",
      "execution_count": 202,
      "metadata": {
        "colab": {
          "base_uri": "https://localhost:8080/"
        },
        "outputId": "fefd5e05-3cb5-417a-89f6-744c388812a5",
        "id": "iGVtmw1NqK0C"
      },
      "outputs": [
        {
          "output_type": "stream",
          "name": "stdout",
          "text": [
            "CPU times: user 3.57 ms, sys: 0 ns, total: 3.57 ms\n",
            "Wall time: 3.86 ms\n"
          ]
        }
      ],
      "source": [
        "%%time\n",
        "gnb = GaussianNB()\n",
        "y_pred_20 = gnb.fit(x_train, y_train[:,0]).predict(x_test[:100])"
      ]
    },
    {
      "cell_type": "code",
      "source": [
        "eval = Evaluate(y_test[:100,0], y_pred_20, x_test_string)\n",
        "eval.get_evaluation_report(analytic=False)"
      ],
      "metadata": {
        "colab": {
          "base_uri": "https://localhost:8080/"
        },
        "outputId": "0a0effed-91ed-4aa1-f0e0-4fbbbbefedc5",
        "id": "peivDWh8qK0C"
      },
      "execution_count": 203,
      "outputs": [
        {
          "output_type": "stream",
          "name": "stdout",
          "text": [
            "precision: 0.7231976988074549\n",
            "recall: 0.7100985221674877\n",
            "f1: 0.7114350790821379\n",
            "accuracy: 0.72\n",
            "Confusion matrix: \n",
            "[[16 10  3]\n",
            " [ 4 27  5]\n",
            " [ 2  4 29]]\n"
          ]
        }
      ]
    },
    {
      "cell_type": "markdown",
      "metadata": {
        "id": "SAmP4BrCbOB9"
      },
      "source": [
        "## Σχολιασμός\n",
        "\n",
        "* Παρατηρώ και πάλι ότι ο classifier του scikit χρειάζεται πολύ λιγότερο χρόνο από την δική μας υλοποίηση.\n",
        "* Ο classifier μας παρουσιάζει βέλτιστες επιδόσεις με 20 διαστήματα, και καλύτερες επιδόσεις με 15 παρά με 10 διαστήματα.\n",
        "* **Μάλιστα για 20 διαστήματα ο classifier μας είναι καλύτερος έναντι σε αυτόν που παρέχει το scikit.**\n"
      ]
    },
    {
      "cell_type": "markdown",
      "metadata": {
        "id": "8B3FYDfnW9nd"
      },
      "source": [
        "# 4ο Μέρος: Multi-Layer Perceptron \n",
        "\n",
        "Στο τέταρτο μέρος της άσκησης θα κατασκευάσετε ένα πολυεπίπεδο νευρωνικό δίκτυο. Ο ταξινομητής αυτός θα εκπαιδευτεί στο να ταξινομεί τα δείγματα των μουσικών κομματιών σε μια από τις 3 διαφορετικές κλάσεις που επιλέχθηκαν (Electronic, Rock, Rap). Αρχικά, θα υλοποιήσετε το μοντέλο αυτό χρησιμοποιώντας αποκλειστικά την βιβλιοθήκη numpy ενώ στην συνέχεια θα χρησιμοποιήσετε μια έτοιμη κλάση για την κατασκευή του ίδιου μοντέλου. \n",
        "\n",
        "Ας θυμηθούμε από τις διαφάνειες: \n",
        "\n",
        "Κάθε MLP αποτελείται από επίπεδα όπου το κάθε ένα από αυτά χωρίζεται στα παρακάτω μέρη: \n",
        "\n",
        "$$ z(x) = w^Τx + b $$ \n",
        "$$ f(x) = a(z(x))$$ \n",
        "\n",
        "όπου $w$, $b$ είναι τα βάρη του επιπέδου.  Η έξοδος z(x) είναι η απόκριση κάθε νευρώνα πριν την συνάρτηση ενεργοποίησης ενώ η f(x) μετά.  Κάθε επίπεδο συνδέεται με ένα επόμενο του οποίου η είσοδός του αποτελεί την έξοδο (με την συνάρτηση ενεργοποίησης) του προηγούμενου. \n",
        "\n",
        "Στο μέρος αυτό καλείστε να συμπληρώσετε ορισμένα σημεία κώδικα ώστε να επιτυγχάνεται αυτή η λειτουργικότητα. Στην συνέχεια θα υλοποιήσετε το ίδιο ακριβώς μοντέλο χρησιμοποιώντας όμως μια έτοιμη βιβλιοθήκη και θα συγκρίνετε τα αποτελέσματά τους (χρόνο, σκορ κ.α.). \n",
        "\n",
        "Σε αυτό το σημείο της άσκησης θα επιλύσετε το παραπάνω πρόβλημα κατασκευάζοντας ένα πολυεπίπεδο νευρωνικό δίκτυο. Αρχικά θα υλοποιήσετε το νευρωνικό χωρίς να χρησιμοποιήσετε κάποια έτοιμη κλάση κάποιας βιβλιοθήκης (όπως scikit-learn, keras), ενώ στην συνέχεια θα κατασκευάσετε το ίδιο σύστημα με την χρήση της βιβλιοθήκης scikit-learn. \n",
        "\n",
        "Στο παρακάτω κελί κώδικα σάς δίνεται η βασική δομή του επιπέδου ενός πολυεπίπεδου νευρωνικού δικτύου. Η παρακάτω κλάση δεν υλοποιεί κάποιο πραγματικό επίπεδο (όπως Dense) αλλά αυτή χρησιμοποιείται για την παρουσίαση των λειτουργιών κάθε επιπέδου.\n",
        "\n",
        "Ουσιαστικά κάθε επίπεδο ενός νευρωνικού δικτύου πρέπει να είναι σε θέση να κάνει: \n",
        "\n",
        "\n",
        "1.   Για μια είσοδο να υπολογίζει την έξοδο κάθε νευρώνα. Αυτό επιτυγχάνεται μέσω της μεθόδου forward η όποια δέχεται ως όρισμα μια είσοδο  και επιστρέφει έναν πίνακα με τις εξόδους κάθε νευρώνα του επιπέδου. \n",
        "\n",
        "2.   Να υπολογίζει τις μεταβολές οι όποιες πρέπει να γίνουν στα βάρη κάθε επιπέδου, ανάλογα με το πόσο καλά-κοντινά ήταν τα αποτελέσματα του επιπέδου στα πραγματικά. Η λειτουργία αυτή θα μας βοηθήσει στην ανανέωση των βαρών του δικτύου και συνεπώς στη σωστή εκπαίδευσή του. Η λειτουργικότητα αυτή επιτυγχάνεται μέσω της μεθόδου backward. \n",
        "\n",
        "  \n",
        "\n",
        "Η λειτουργικότητα, συνεπώς, κάθε επιπέδου καθορίζεται από την συνάρτηση που υλοποιείται στην μέθοδο forward. Ένα instance της παρακάτω κλάσης, συνεπώς, επιστρέφει ως έξοδο την είσοδο κάθε νευρώνα (ταυτοτική συνάρτηση) όποτε δεν προσφέρει κάποια υψηλή λειτουργικότητα. Στην παρακάτω κλάση δεν έχετε να προσθέσετε κάτι, απλά να μελετήσετε και να καταλάβετε την δομή που πρέπει να έχει ένα επίπεδο. "
      ]
    },
    {
      "cell_type": "code",
      "execution_count": 51,
      "metadata": {
        "id": "jgx1VIMmbMQP"
      },
      "outputs": [],
      "source": [
        "class Layer:\n",
        "    def __init__(self):\n",
        "        \"\"\"Here we can initialize layer parameters (if any) and auxiliary stuff.\"\"\"\n",
        "        # A dummy layer does nothing\n",
        "        pass\n",
        "    \n",
        "    def forward(self, input):\n",
        "        \"\"\"\n",
        "        Takes input data of shape [batch, input_units], returns output data [batch, output_units]\n",
        "        \"\"\"\n",
        "        # A dummy layer just returns whatever it gets as input.\n",
        "        return input\n",
        "\n",
        "    def backward(self, input, grad_output):\n",
        "        # The gradient of a dummy layer is precisely grad_output, but we'll write it more explicitly\n",
        "        num_units = input.shape[1]\n",
        "        \n",
        "        d_layer_d_input = np.eye(num_units)\n",
        "        \n",
        "        return np.dot(grad_output, d_layer_d_input) # chain rule"
      ]
    },
    {
      "cell_type": "markdown",
      "metadata": {
        "id": "r1iQCroAbV-F"
      },
      "source": [
        "Στο σημείο αυτό αξίζει να αναφερθεί ότι για την σωστή εκπαίδευση του δικτύου (σε πρακτικό επίπεδο) πρέπει να διαχωριστεί η έξοδος κάθε νευρώνα πριν και μετά την συνάρτηση ενεργοποίησης. Έτσι η παραπάνω μέθοδος forward της κλάσης layer πρέπει να υπολογίζει την έξοδο του επιπέδου χωρίς την συνάρτηση ενεργοποίησης και κάποια άλλη κλάση να υπολογίζει το αποτέλεσμα με αυτή.  \n",
        "\n",
        "  \n",
        "\n",
        "Έκτος όμως από την εκπαίδευση του δικτύου, ο διαχωρισμός αυτός μας βοηθά σημαντικά και κατά την φάση σχεδιασμού της  αρχιτεκτονικής μιας και μας δίνει την δυνατότητα να αλλάζουμε την συνάρτηση ενεργοποίησης χωρίς κάθε φόρα να πρέπει να αλλάξουμε ολόκληρη την κλάση layer. Για τους παραπάνω λόγους θα χειριζόμαστε την συνάρτηση ενεργοποίησης σαν ένα ξεχωριστό επίπεδο με τις δικές της μεθόδους: forward, backward.  \n",
        "\n",
        "  \n",
        "\n",
        "Παρακάτω παρουσιάζεται η κλάση η όποια υλοποιεί την λειτουργικότητα της συνάρτησης ενεργοποίησης [ReLU](https://en.wikipedia.org/wiki/Rectifier_(neural_networks)).  \n",
        "\n",
        "  \n",
        "\n",
        "Με την ίδια λογική μπορούμε να υλοποιήσουμε οποιαδήποτε άλλη συνάρτηση ενεργοποίησης θέλουμε π.χ. sigmoid, tanh κ.ο.κ. και επιπλέον μπορούμε να τις εναλλάσσουμε μεταξύ επιπέδων χωρίς δυσκολία. "
      ]
    },
    {
      "cell_type": "code",
      "execution_count": 52,
      "metadata": {
        "id": "6P33228VbYIf"
      },
      "outputs": [],
      "source": [
        "class ReLU(Layer):\n",
        "    def __init__(self):\n",
        "        \"\"\"ReLU layer simply applies elementwise rectified linear unit to all inputs\"\"\"\n",
        "        pass\n",
        "    \n",
        "    def forward(self, input):\n",
        "        \"\"\"Apply elementwise ReLU to [batch, input_units] matrix\"\"\"\n",
        "        relu_forward = np.maximum(0, input)\n",
        "        return relu_forward\n",
        "    \n",
        "    def backward(self, input, grad_output):\n",
        "        \"\"\"Compute gradient of loss w.r.t. ReLU input\"\"\"\n",
        "        relu_grad = input > 0\n",
        "        return grad_output*relu_grad"
      ]
    },
    {
      "cell_type": "markdown",
      "metadata": {
        "id": "Rrrub_76ba19"
      },
      "source": [
        "Η κλάση Dense υλοποιεί ένα επίπεδο dense όπου η έξοδος κάθε νευρώνα (χωρίς τη  συνάρτηση ενεργοποίησης) υπολογίζεται από την παρακάτω εξίσωση: \n",
        "\n",
        "  \n",
        "\n",
        "  \n",
        "\n",
        "$$ z(x) = w^Τx + b $$ \n",
        "\n",
        "  \n",
        "\n",
        "όπου $w$, $b$ είναι τα βάρη του επιπέδου.   \n",
        "\n",
        "  \n",
        "\n",
        "Συνεπώς το δίκτυο είναι απαραίτητο να διατηρεί τους δυο πίνακες με τα βάρη οι οποίοι στην μέθοδο forward θα χρησιμοποιούνται για τον υπολογισμό της εξόδου και θα ανανεώνονται από την μέθοδο backward. Οι πίνακες αυτοί δημιουργούνται κατά την κατασκευή κάθε στιγμιότυπου και αρχικοποιούνται, ο πρώτος τυχαία και ο δεύτερος με μηδενικά.  Στο σημείο αυτό καλείστε να συμπληρώσετε την μέθοδο forward με κατάλληλο τρόπο ώστε να επιτυγχάνεται η επιθυμητή λειτουργικότητα. "
      ]
    },
    {
      "cell_type": "code",
      "execution_count": 53,
      "metadata": {
        "id": "HEnuIuOHbZge"
      },
      "outputs": [],
      "source": [
        "class Dense(Layer):\n",
        "    def __init__(self, input_units, output_units, learning_rate = 0.1):\n",
        "        self.input_units = input_units\n",
        "        self.output_units = output_units\n",
        "        \n",
        "        self.learning_rate = learning_rate\n",
        "        self.weights = np.random.normal(loc = 0.0, \n",
        "                                        scale = np.sqrt(2 / (input_units + output_units)), \n",
        "                                        size = (input_units, output_units))\n",
        "        self.biases = np.zeros(output_units)\n",
        "        \n",
        "    def forward(self, input):\n",
        "        \"\"\"\n",
        "        Perform an affine transformation:\n",
        "        f(x) = <W*x> + b\n",
        "        \n",
        "        input shape: [number of inputs, input units]\n",
        "        output shape: [number of inputs, output units]\n",
        "        \"\"\"\n",
        "        ###################\n",
        "        ## Your code below\n",
        "        ## hint: numpy.dot\n",
        "\n",
        "        output = np.dot(input,self.weights) + self.biases\n",
        "        \n",
        "        ## Your code above\n",
        "        ##################\n",
        "        return output\n",
        "\n",
        "    def backward(self, input, grad_output):\n",
        "        # compute d f / d x = d f / d dense * d dense / d x\n",
        "        # where d dense/ d x = weights transposed\n",
        "        grad_input = np.dot(grad_output, self.weights.T)\n",
        "\n",
        "        # compute gradient w.r.t. weights and biases\n",
        "        grad_weights = np.dot(input.T, grad_output)\n",
        "        grad_biases = grad_output.mean(axis = 0) * input.shape[0]\n",
        "        assert grad_weights.shape == self.weights.shape and grad_biases.shape == self.biases.shape\n",
        "\n",
        "        # Here we perform a stochastic gradient descent step. \n",
        "        self.weights = self.weights - self.learning_rate * grad_weights\n",
        "        self.biases = self.biases - self.learning_rate * grad_biases\n",
        "        return grad_input"
      ]
    },
    {
      "cell_type": "markdown",
      "metadata": {
        "id": "Ml2jvLeybeRe"
      },
      "source": [
        "Οι παρακάτω συναρτήσεις χρησιμοποιούνται για να μπορεί το δίκτυο να ελέγχει πόσο κοντά βρίσκονται τα αποτελέσματά του στα πραγματικά (Loss function). Όπως είναι λογικό υπάρχουν διαφορετικές τέτοιες συναρτήσεις ανάλογα το πρόβλημα που καλείται να λύσει το δίκτυο. Η παρακάτω συνάρτηση ονομάζεται [softmax](https://en.wikipedia.org/wiki/Softmax_function) και χρησιμοποιείται κατά κύριο λόγο σε προβλήματα ταξινόμησης όπως το συγκεκριμένο. Η softmax δέχεται σαν είσοδο τις ενεργοποιήσεις του τελευταίου επιπέδου και επιστρέφει μια κατανομή πιθανοτήτων για κάθε μια από τις κλάσεις εξόδου (π.χ. κλάση 0 έχει πιθανότητα 0.001,  η κλάση 1 έχει 0.9 κ.ο.κ.).  "
      ]
    },
    {
      "cell_type": "code",
      "execution_count": 54,
      "metadata": {
        "id": "qT7nl_1Gbc0B"
      },
      "outputs": [],
      "source": [
        "def softmax_crossentropy_with_logits(logits, reference_answers):\n",
        "    logits_for_answers = logits[np.arange(len(logits)),reference_answers]\n",
        "    xentropy = - logits_for_answers + np.log(np.sum(np.exp(logits),axis=-1))\n",
        "    return xentropy\n",
        "\n",
        "def grad_softmax_crossentropy_with_logits(logits, reference_answers):\n",
        "    ones_for_answers = np.zeros_like(logits)\n",
        "    ones_for_answers[np.arange(len(logits)),reference_answers] = 1\n",
        "    softmax = np.exp(logits) / np.exp(logits).sum(axis=-1,keepdims=True)\n",
        "    return (- ones_for_answers + softmax) / logits.shape[0]"
      ]
    },
    {
      "cell_type": "markdown",
      "metadata": {
        "id": "5XnSJjxYbhdX"
      },
      "source": [
        "Έχοντας υλοποιήσει τις κλάσεις Dense και ReLU μπορούμε πλέον να κατασκευάσουμε μια κλάση η όποια θα ορίζει ένα πολυεπίπεδο νευρωνικό δίκτυο (MLP). Το δίκτυο αυτό ουσιαστικά αποτελείται από μια ακολουθία Dense επιπέδων όπου το κάθε ένα (εκτός του τελευταίου) ακολουθείται από μια μη-γραμμική συνάρτηση ενεργοποίησης (ReLU). Όμοια με πριν, η κλάση αυτή πρέπει να περιέχει μια μέθοδο forward η όποια θα δέχεται μια είσοδο (εδώ μια εικόνα flatten) και θα επιστρέφει μια έξοδο (εδώ μια κατανομή 3 πιθανοτήτων). Παράλληλα πρέπει να περιέχει και μια μέθοδο fit, η όποια θα εκπαιδεύει το δίκτυο δεδομένου ενός τέτοιου συνόλου (εδώ του x_train). Στο σημείο αυτό χρησιμοποιούνται οι μέθοδοι backward που έχουν οριστεί για κάθε ένα επίπεδο (δεν χρειάζεται να συμπληρώσετε κάτι).  Τέλος θα ήταν βοηθητικό να έχουμε και μια μέθοδο η όποια θα μετατρέπει την κατανομή εξόδου στην επιστρεφόμενη κλάση (predict) για κάποιο ή κάποια στιγμιότυπα του συνόλου δεδομένων.   \n",
        "\n",
        "Το δίκτυο όπως αναφέρθηκε και προηγουμένως αποτελείται από έναν αριθμό Dense επιπέδων κάθε ένα από τα όποια ακολουθείται από μια συνάρτηση ReLU. Η κατασκευή των επιπέδων γίνεται κατά την στιγμή δημιουργίας του δικτύου, όπου δίνεται ως είσοδος μια λίστα με το μέγεθος κάθε επιπέδου, μαζί με το μέγεθος εισόδου. Έτσι για παράδειγμα η παρακάτω γραμμή κώδικα:  \n",
        "``` \n",
        "net = MLP([100, 200, 100, 10], 784)  \n",
        "```  \n",
        "κατασκευάζει ένα MLP το όποιο αποτελείται από 4 επίπεδα με μέγεθος 100, 200, 100, 10. Ο αριθμός των επιπέδων καθώς και του μεγέθους καθενός από αυτά είναι ελεύθερος να οριστεί από τον χρήστη.   \n",
        "Στον constructor της κλάσης ουσιαστικά ορίζεται μια λίστα η όποια περιέχει κάθε ένα από τα επίπεδα που πρέπει να οριστούν, π.χ. για το παραπάνω παράδειγμα η μεταβλητή net.network περιέχει τα εξής στιγμιότυπα των κλάσεων:  \n",
        "\n",
        "``` \n",
        "[Dense(100), ReLU(), Dense(200), ReLU(), Dense(100), ReLU(), Dense(10)]  \n",
        "```  \n",
        "\n",
        "Συνεπώς η λειτουργικότητα του δικτύου όπως και πριν πρέπει να οριστεί στην μέθοδο forward. Στο σημείο αυτό καλείστε να συμπληρώσετε την μέθοδο αυτή έτσι ώστε το δίκτυο να λειτουργεί όπως πρέπει, δηλαδή στο παράδειγμά μας η είσοδος να περνά από το επίπεδο Dense(100), μετά από το ReLU(), στην συνέχεια από το Dense(200) κ.ο.κ. μέχρι και το τελευταίο επίπεδο.  Ο αλγόριθμος αυτός παρουσιάζεται και σε ψευδοκώδικα στην διαφάνεια 33 του μαθήματος. "
      ]
    },
    {
      "cell_type": "code",
      "execution_count": 55,
      "metadata": {
        "id": "MHHcg1unbf21"
      },
      "outputs": [],
      "source": [
        "class MLP:\n",
        "    def __init__(self, shapes, input_dim):\n",
        "        self.shapes = shapes\n",
        "        self.network = [Dense(input_dim, shapes[0])]\n",
        "        self.network.append(ReLU())\n",
        "        for i in range(1, len(self.shapes) - 1):\n",
        "            self.network.append(Dense(shapes[i-1], shapes[i]))\n",
        "            self.network.append(ReLU())\n",
        "        self.network.append(Dense(shapes[i], shapes[-1]))\n",
        "\n",
        "    def forward(self, X):\n",
        "        \"\"\"\n",
        "        Αλγόριθμος διφάνειας 33\n",
        "        \"\"\"\n",
        "        activations = []\n",
        "        input = X\n",
        "        # Looping through each layer\n",
        "        for l in self.network:\n",
        "            ###################\n",
        "            ## Your code below\n",
        "            # hint: τροφοδοτούμε την έξοδο κάθε επιπέδου στο επόμενο\n",
        "            \n",
        "            input = l.forward(input)\n",
        "            activations.append(input)\n",
        "\n",
        "            ## Your code above\n",
        "            ##################        \n",
        "        assert len(activations) == len(self.network)\n",
        "        return activations\n",
        "\n",
        "    def predict(self,X):\n",
        "        \"\"\"\n",
        "        Προβλέπει την έξοδο του δικτύου για ένα ή περισσότερα στιγμιότυπα εισόδου\n",
        "        \"\"\"\n",
        "        logits = self.forward(X)[-1]\n",
        "        return logits.argmax(axis = -1)\n",
        "\n",
        "    def fit(self, X, y):\n",
        "        # Get the layer activations\n",
        "        layer_activations = self.forward(X)\n",
        "        layer_inputs = [X]+layer_activations \n",
        "        logits = layer_activations[-1]\n",
        "\n",
        "        # Compute the loss and the initial gradient\n",
        "        loss = softmax_crossentropy_with_logits(logits,y)\n",
        "        loss_grad = grad_softmax_crossentropy_with_logits(logits,y)\n",
        "\n",
        "        # Propagate gradients through the network\n",
        "        # Reverse propogation as this is backprop\n",
        "        for layer_index in range(len(self.network))[::-1]:\n",
        "            layer = self.network[layer_index]\n",
        "            loss_grad = layer.backward(layer_inputs[layer_index],loss_grad) \n",
        "        return np.mean(loss)"
      ]
    },
    {
      "cell_type": "markdown",
      "metadata": {
        "id": "6zCBcKqvbm4t"
      },
      "source": [
        "## Αξιολόγηση ενός Multi-Layer Perceptron\n",
        "\n",
        "Αφού έχουμε κατασκευάσει τα παραπάνω είμαστε πλέον σε θέση να εκπαιδεύσουμε το MLP. Αυτό γίνεται καλώντας την μέθοδο fit. Στο παρακάτω κελί κώδικα ορίζεται το MLP του παραπάνω παραδείγματος και εκπαιδεύεται για 25 εποχές. Στο τέλος κάθε εποχής παρουσιάζονται τα αποτελέσματα του μαζί με μια γραφική των train και test accuracy. "
      ]
    },
    {
      "cell_type": "code",
      "execution_count": 71,
      "metadata": {
        "id": "4jw-8qN6bjQG",
        "colab": {
          "base_uri": "https://localhost:8080/",
          "height": 1000
        },
        "outputId": "7073f13f-59a5-4bc3-97c8-09bbcf12f49e"
      },
      "outputs": [
        {
          "output_type": "stream",
          "name": "stdout",
          "text": [
            "(9471, 6)\n",
            "Epoch 0\n",
            "Train accuracy: 0.3310709547411572\n",
            "Val accuracy: 0.33121005120240726\n"
          ]
        },
        {
          "output_type": "display_data",
          "data": {
            "image/png": "[encoded data removed]",
            "text/plain": [
              "<Figure size 432x288 with 1 Axes>"
            ]
          },
          "metadata": {
            "needs_background": "light"
          }
        },
        {
          "output_type": "stream",
          "name": "stdout",
          "text": [
            "Epoch 1\n",
            "Train accuracy: 0.33128025277101664\n",
            "Val accuracy: 0.3313445485209542\n"
          ]
        },
        {
          "output_type": "display_data",
          "data": {
            "image/png": "[encoded data removed]",
            "text/plain": [
              "<Figure size 432x288 with 1 Axes>"
            ]
          },
          "metadata": {
            "needs_background": "light"
          }
        },
        {
          "output_type": "stream",
          "name": "stdout",
          "text": [
            "Epoch 2\n",
            "Train accuracy: 0.33150426654602433\n",
            "Val accuracy: 0.3314698245528889\n"
          ]
        },
        {
          "output_type": "display_data",
          "data": {
            "image/png": "[encoded data removed]",
            "text/plain": [
              "<Figure size 432x288 with 1 Axes>"
            ]
          },
          "metadata": {
            "needs_background": "light"
          }
        },
        {
          "output_type": "stream",
          "name": "stdout",
          "text": [
            "Epoch 3\n",
            "Train accuracy: 0.33173266159970116\n",
            "Val accuracy: 0.3315971632410396\n"
          ]
        },
        {
          "output_type": "display_data",
          "data": {
            "image/png": "[encoded data removed]",
            "text/plain": [
              "<Figure size 432x288 with 1 Axes>"
            ]
          },
          "metadata": {
            "needs_background": "light"
          }
        },
        {
          "output_type": "stream",
          "name": "stdout",
          "text": [
            "Epoch 4\n",
            "Train accuracy: 0.33189838095699636\n",
            "Val accuracy: 0.3317195879540877\n"
          ]
        },
        {
          "output_type": "display_data",
          "data": {
            "image/png": "[encoded data removed]",
            "text/plain": [
              "<Figure size 432x288 with 1 Axes>"
            ]
          },
          "metadata": {
            "needs_background": "light"
          }
        },
        {
          "output_type": "stream",
          "name": "stdout",
          "text": [
            "Epoch 5\n",
            "Train accuracy: 0.3320791505081932\n",
            "Val accuracy: 0.3318584532505035\n"
          ]
        },
        {
          "output_type": "display_data",
          "data": {
            "image/png": "[encoded data removed]",
            "text/plain": [
              "<Figure size 432x288 with 1 Axes>"
            ]
          },
          "metadata": {
            "needs_background": "light"
          }
        },
        {
          "output_type": "stream",
          "name": "stdout",
          "text": [
            "Epoch 6\n",
            "Train accuracy: 0.3322398196893125\n",
            "Val accuracy: 0.3319876725957922\n"
          ]
        },
        {
          "output_type": "display_data",
          "data": {
            "image/png": "[encoded data removed]",
            "text/plain": [
              "<Figure size 432x288 with 1 Axes>"
            ]
          },
          "metadata": {
            "needs_background": "light"
          }
        },
        {
          "output_type": "stream",
          "name": "stdout",
          "text": [
            "Epoch 7\n",
            "Train accuracy: 0.3323863416881642\n",
            "Val accuracy: 0.3321055473318935\n"
          ]
        },
        {
          "output_type": "display_data",
          "data": {
            "image/png": "[encoded data removed]",
            "text/plain": [
              "<Figure size 432x288 with 1 Axes>"
            ]
          },
          "metadata": {
            "needs_background": "light"
          }
        },
        {
          "output_type": "stream",
          "name": "stdout",
          "text": [
            "Epoch 8\n",
            "Train accuracy: 0.332524836916935\n",
            "Val accuracy: 0.33222421073066566\n"
          ]
        },
        {
          "output_type": "display_data",
          "data": {
            "image/png": "[encoded data removed]",
            "text/plain": [
              "<Figure size 432x288 with 1 Axes>"
            ]
          },
          "metadata": {
            "needs_background": "light"
          }
        },
        {
          "output_type": "stream",
          "name": "stdout",
          "text": [
            "Epoch 9\n",
            "Train accuracy: 0.33267617497783525\n",
            "Val accuracy: 0.3323678686694654\n"
          ]
        },
        {
          "output_type": "display_data",
          "data": {
            "image/png": "[encoded data removed]",
            "text/plain": [
              "<Figure size 432x288 with 1 Axes>"
            ]
          },
          "metadata": {
            "needs_background": "light"
          }
        },
        {
          "output_type": "stream",
          "name": "stdout",
          "text": [
            "Epoch 10\n",
            "Train accuracy: 0.33279915178444963\n",
            "Val accuracy: 0.3325133465990439\n"
          ]
        },
        {
          "output_type": "display_data",
          "data": {
            "image/png": "[encoded data removed]",
            "text/plain": [
              "<Figure size 432x288 with 1 Axes>"
            ]
          },
          "metadata": {
            "needs_background": "light"
          }
        },
        {
          "output_type": "stream",
          "name": "stdout",
          "text": [
            "Epoch 11\n",
            "Train accuracy: 0.33291778075727024\n",
            "Val accuracy: 0.33262564003009054\n"
          ]
        },
        {
          "output_type": "display_data",
          "data": {
            "image/png": "[encoded data removed]",
            "text/plain": [
              "<Figure size 432x288 with 1 Axes>"
            ]
          },
          "metadata": {
            "needs_background": "light"
          }
        },
        {
          "output_type": "stream",
          "name": "stdout",
          "text": [
            "Epoch 12\n",
            "Train accuracy: 0.33303380102981456\n",
            "Val accuracy: 0.3327439394307069\n"
          ]
        },
        {
          "output_type": "display_data",
          "data": {
            "image/png": "[encoded data removed]",
            "text/plain": [
              "<Figure size 432x288 with 1 Axes>"
            ]
          },
          "metadata": {
            "needs_background": "light"
          }
        },
        {
          "output_type": "stream",
          "name": "stdout",
          "text": [
            "Epoch 13\n",
            "Train accuracy: 0.3331506908691176\n",
            "Val accuracy: 0.33283111698900725\n"
          ]
        },
        {
          "output_type": "display_data",
          "data": {
            "image/png": "[encoded data removed]",
            "text/plain": [
              "<Figure size 432x288 with 1 Axes>"
            ]
          },
          "metadata": {
            "needs_background": "light"
          }
        },
        {
          "output_type": "stream",
          "name": "stdout",
          "text": [
            "Epoch 14\n",
            "Train accuracy: 0.33325450376216387\n",
            "Val accuracy: 0.33293528112790893\n"
          ]
        },
        {
          "output_type": "display_data",
          "data": {
            "image/png": "[encoded data removed]",
            "text/plain": [
              "<Figure size 432x288 with 1 Axes>"
            ]
          },
          "metadata": {
            "needs_background": "light"
          }
        },
        {
          "output_type": "stream",
          "name": "stdout",
          "text": [
            "Epoch 15\n",
            "Train accuracy: 0.3333450390397013\n",
            "Val accuracy: 0.33302731199495256\n"
          ]
        },
        {
          "output_type": "display_data",
          "data": {
            "image/png": "[encoded data removed]",
            "text/plain": [
              "<Figure size 432x288 with 1 Axes>"
            ]
          },
          "metadata": {
            "needs_background": "light"
          }
        },
        {
          "output_type": "stream",
          "name": "stdout",
          "text": [
            "Epoch 16\n",
            "Train accuracy: 0.3334356077621141\n",
            "Val accuracy: 0.33309798830352594\n"
          ]
        },
        {
          "output_type": "display_data",
          "data": {
            "image/png": "[encoded data removed]",
            "text/plain": [
              "<Figure size 432x288 with 1 Axes>"
            ]
          },
          "metadata": {
            "needs_background": "light"
          }
        },
        {
          "output_type": "stream",
          "name": "stdout",
          "text": [
            "Epoch 17\n",
            "Train accuracy: 0.33350279851666625\n",
            "Val accuracy: 0.33318298187289186\n"
          ]
        },
        {
          "output_type": "display_data",
          "data": {
            "image/png": "[encoded data removed]",
            "text/plain": [
              "<Figure size 432x288 with 1 Axes>"
            ]
          },
          "metadata": {
            "needs_background": "light"
          }
        },
        {
          "output_type": "stream",
          "name": "stdout",
          "text": [
            "Epoch 18\n",
            "Train accuracy: 0.3335821966507165\n",
            "Val accuracy: 0.3332560241694775\n"
          ]
        },
        {
          "output_type": "display_data",
          "data": {
            "image/png": "[encoded data removed]",
            "text/plain": [
              "<Figure size 432x288 with 1 Axes>"
            ]
          },
          "metadata": {
            "needs_background": "light"
          }
        },
        {
          "output_type": "stream",
          "name": "stdout",
          "text": [
            "Epoch 19\n",
            "Train accuracy: 0.3336572469509729\n",
            "Val accuracy: 0.33332967312965617\n"
          ]
        },
        {
          "output_type": "display_data",
          "data": {
            "image/png": "[encoded data removed]",
            "text/plain": [
              "<Figure size 432x288 with 1 Axes>"
            ]
          },
          "metadata": {
            "needs_background": "light"
          }
        },
        {
          "output_type": "stream",
          "name": "stdout",
          "text": [
            "Epoch 20\n",
            "Train accuracy: 0.3337147721365526\n",
            "Val accuracy: 0.3334061734087214\n"
          ]
        },
        {
          "output_type": "display_data",
          "data": {
            "image/png": "[encoded data removed]",
            "text/plain": [
              "<Figure size 432x288 with 1 Axes>"
            ]
          },
          "metadata": {
            "needs_background": "light"
          }
        },
        {
          "output_type": "stream",
          "name": "stdout",
          "text": [
            "Epoch 21\n",
            "Train accuracy: 0.33376514011881026\n",
            "Val accuracy: 0.3334693270887428\n"
          ]
        },
        {
          "output_type": "display_data",
          "data": {
            "image/png": "[encoded data removed]",
            "text/plain": [
              "<Figure size 432x288 with 1 Axes>"
            ]
          },
          "metadata": {
            "needs_background": "light"
          }
        },
        {
          "output_type": "stream",
          "name": "stdout",
          "text": [
            "Epoch 22\n",
            "Train accuracy: 0.33380644453985153\n",
            "Val accuracy: 0.3335276881263802\n"
          ]
        },
        {
          "output_type": "display_data",
          "data": {
            "image/png": "[encoded data removed]",
            "text/plain": [
              "<Figure size 432x288 with 1 Axes>"
            ]
          },
          "metadata": {
            "needs_background": "light"
          }
        },
        {
          "output_type": "stream",
          "name": "stdout",
          "text": [
            "Epoch 23\n",
            "Train accuracy: 0.33384985598803907\n",
            "Val accuracy: 0.33358726249120335\n"
          ]
        },
        {
          "output_type": "display_data",
          "data": {
            "image/png": "[encoded data removed]",
            "text/plain": [
              "<Figure size 432x288 with 1 Axes>"
            ]
          },
          "metadata": {
            "needs_background": "light"
          }
        },
        {
          "output_type": "stream",
          "name": "stdout",
          "text": [
            "Epoch 24\n",
            "Train accuracy: 0.33388694635478783\n",
            "Val accuracy: 0.33363725157125873\n"
          ]
        },
        {
          "output_type": "display_data",
          "data": {
            "image/png": "[encoded data removed]",
            "text/plain": [
              "<Figure size 432x288 with 1 Axes>"
            ]
          },
          "metadata": {
            "needs_background": "light"
          }
        },
        {
          "output_type": "stream",
          "name": "stdout",
          "text": [
            "precision: 0.5007721640088741\n",
            "recall: 0.5098102353483899\n",
            "f1: 0.49454995707800364\n",
            "accuracy: 0.5100985221674876\n",
            "Confusion matrix: \n",
            "[[391 517 433]\n",
            " [303 704 366]\n",
            " [147 223 976]]\n"
          ]
        }
      ],
      "source": [
        "from IPython.display import clear_output\n",
        "import numpy as np\n",
        "\n",
        "network = MLP([10, 15, 20, 3], len(inputs))\n",
        "\n",
        "train_log = []\n",
        "val_log = []\n",
        "\n",
        "print(x_train.shape)\n",
        "\n",
        "for epoch in range(25):\n",
        "    network.fit(x_train, y_train[:,0])   \n",
        "    train_log.append(np.mean(network.predict(x_train) == y_train))\n",
        "    val_log.append(np.mean(network.predict(x_test) == y_test))\n",
        "    #clear_output()\n",
        "    print(\"Epoch\", epoch)\n",
        "    print(\"Train accuracy:\", train_log[-1])\n",
        "    print(\"Val accuracy:\", val_log[-1])  \n",
        "    plt.plot(train_log,label = 'train accuracy')\n",
        "    plt.plot(val_log,label = 'val accuracy')\n",
        "    plt.legend(loc = 'best')\n",
        "    plt.grid()\n",
        "    plt.show()\n",
        "\n",
        "y_pred = network.predict(x_test)\n",
        "\n",
        "eval = Evaluate(y_test[:,0], y_pred, x_test_string)\n",
        "eval.get_evaluation_report(analytic=False)"
      ]
    },
    {
      "cell_type": "markdown",
      "metadata": {
        "id": "ygud3NX3b-wN"
      },
      "source": [
        "## Έτοιμο Multi-Layer Perceptron \n",
        "\n",
        "Όπως και με τις τεχνικές των παραπάνω ερωτημάτων έτσι και εδώ υπάρχει έτοιμη η παραπάνω κλάση σε διάφορες βιβλιοθήκες. Έτσι στο δεύτερο μέρος του ερωτήματος αυτού θα κατασκευάσετε το ίδιο MLP χρησιμοποιώντας όμως την έτοιμη κλάση [MLPClassifier](https://scikit-learn.org/stable/modules/generated/sklearn.neural_network.MLPClassifier.html)  της βιβλιοθήκης scikit-learn. Παρακάτω παρουσιάζεται ένα παράδειγμα χρήσης της κλάσης αυτής. "
      ]
    },
    {
      "cell_type": "code",
      "execution_count": 70,
      "metadata": {
        "id": "hltXBE2Vbojo",
        "colab": {
          "base_uri": "https://localhost:8080/"
        },
        "outputId": "e41a111f-18c8-4f31-c8a0-10205358db72"
      },
      "outputs": [
        {
          "output_type": "stream",
          "name": "stderr",
          "text": [
            "/usr/local/lib/python3.7/dist-packages/sklearn/neural_network/_multilayer_perceptron.py:1109: DataConversionWarning: A column-vector y was passed when a 1d array was expected. Please change the shape of y to (n_samples, ), for example using ravel().\n",
            "  y = column_or_1d(y, warn=True)\n"
          ]
        },
        {
          "output_type": "stream",
          "name": "stdout",
          "text": [
            "precision: 0.72648996035497\n",
            "recall: 0.7189791957484103\n",
            "f1: 0.7178272677639717\n",
            "accuracy: 0.7194581280788177\n",
            "Confusion matrix: \n",
            "[[ 811  307  223]\n",
            " [ 179 1057  137]\n",
            " [  60  233 1053]]\n"
          ]
        },
        {
          "output_type": "stream",
          "name": "stderr",
          "text": [
            "/usr/local/lib/python3.7/dist-packages/sklearn/neural_network/_multilayer_perceptron.py:696: ConvergenceWarning: Stochastic Optimizer: Maximum iterations (25) reached and the optimization hasn't converged yet.\n",
            "  ConvergenceWarning,\n"
          ]
        }
      ],
      "source": [
        "from sklearn.neural_network import MLPClassifier\n",
        "\n",
        "epochs = 25\n",
        "mlp = MLPClassifier(hidden_layer_sizes=(10, 15, 20), max_iter = epochs)\n",
        "\n",
        "mlp.fit(x_train,y_train)\n",
        "\n",
        "y_pred = mlp.predict(x_test)\n",
        "eval = Evaluate(y_test[:,0], y_pred, x_test_string)\n",
        "eval.get_evaluation_report(analytic=False)"
      ]
    },
    {
      "cell_type": "markdown",
      "metadata": {
        "id": "DOQYML9wcDBk"
      },
      "source": [
        "## Σύγκριση υλοποιήσεων \n",
        "\n",
        "  \n",
        "\n",
        "Στα παρακάτω κελιά πειραματιστείτε με τις δύο υλοποιήσεις (τη δική σας και την έτοιμη). Συγκρίνετε τα αποτελέσματά σας τόσο ως προς τους χρόνους εκτέλεσης αλλά και ως προς τα αποτελέσματα. Η διαφορά των αποτελεσμάτων προκύπτει από το ότι στην έτοιμη κλάση έχουν γίνει αρκετές βελτιστοποιήσεις στην λειτουργία, στον τρόπο εκπαίδευσης κ.α. με αποτέλεσμα να προκύπτουν καλύτερα αποτέλεσματα. Παρόλα αυτά στην δική μας κλάση έχουμε καλύτερο έλεγχο και έχουμε την δυνατότητα να σχεδιάσουμε πιο σύνθετες αρχιτεκτονικές καθώς να αλλάξουμε τις τιμές παραμέτρων που στην έτοιμη κλάση μπορεί να μην μας δίνεται η δυνατότητα. \n"
      ]
    },
    {
      "cell_type": "markdown",
      "source": [
        "Ορίζω τις παρακάτω συναρτήσεις για να με βοηθήσουν στη σύγκριση και λόγω της επαναληψιμότητας του κώδικα για τις διάφορες παραμέτρους."
      ],
      "metadata": {
        "id": "4FZb-JWyWMnc"
      }
    },
    {
      "cell_type": "code",
      "source": [
        "from IPython.display import clear_output\n",
        "import numpy as np\n",
        "\n",
        "def my_MLP(layers, inputs, epochs):\n",
        "  global x_train, y_train, x_test, y_test\n",
        "  network = MLP(layers, len(inputs))\n",
        "  train_log = []\n",
        "  val_log = []\n",
        "  for epoch in range(epochs):\n",
        "    network.fit(x_train, y_train[:,0])   \n",
        "    train_log.append(np.mean(network.predict(x_train) == y_train))\n",
        "    val_log.append(np.mean(network.predict(x_test) == y_test))\n",
        "  plt.figure()\n",
        "  plt.plot(train_log,label = 'train accuracy')\n",
        "  plt.plot(val_log,label = 'val accuracy')\n",
        "  plt.legend(loc = 'best')\n",
        "  plt.grid()\n",
        "  plt.show()\n",
        "\n",
        "  y_pred = network.predict(x_test)\n",
        "  \n",
        "  eval = Evaluate(y_test, y_pred, x_test_string)\n",
        "  eval.get_evaluation_report(analytic=False)\n",
        "  return eval.get_metrics()\n",
        "\n",
        "def scikit_MLP(layers, inputs, epochs):\n",
        "  global x_train, y_train, x_test, y_test\n",
        "  mlp = MLPClassifier(hidden_layer_sizes=layers, max_iter = epochs)\n",
        "  mlp.fit(x_train,y_train)\n",
        "\n",
        "  y_pred = mlp.predict(x_test)\n",
        "\n",
        "  eval = Evaluate(y_test, y_pred, x_test_string)\n",
        "  eval.get_evaluation_report(analytic=False)\n",
        "  return eval.get_metrics()"
      ],
      "metadata": {
        "id": "9M-FH8tUWMI-"
      },
      "execution_count": 76,
      "outputs": []
    },
    {
      "cell_type": "markdown",
      "source": [
        "### Για 25 epochs βλέπουμε τους εξής χρόνους και αποτελέσματα:"
      ],
      "metadata": {
        "id": "yiEgqV-_VO4f"
      }
    },
    {
      "cell_type": "code",
      "source": [
        "%%time\n",
        "my_MLP_25epochs = my_MLP(layers=[10,15,20,3], inputs=inputs, epochs=25)"
      ],
      "metadata": {
        "colab": {
          "base_uri": "https://localhost:8080/",
          "height": 439
        },
        "id": "ji7aFsjmZsjI",
        "outputId": "37f91743-0037-4cc8-e4f2-48590ecb1b14"
      },
      "execution_count": 78,
      "outputs": [
        {
          "output_type": "display_data",
          "data": {
            "image/png": "[encoded data removed]",
            "text/plain": [
              "<Figure size 432x288 with 1 Axes>"
            ]
          },
          "metadata": {
            "needs_background": "light"
          }
        },
        {
          "output_type": "stream",
          "name": "stdout",
          "text": [
            "precision: 0.5749045049851859\n",
            "recall: 0.5622737135423324\n",
            "f1: 0.5455624034717467\n",
            "accuracy: [0.5637931]\n",
            "Confusion matrix: \n",
            "[[ 782  371  188]\n",
            " [ 162 1091  120]\n",
            " [ 300  630  416]]\n",
            "CPU times: user 6.06 s, sys: 4.36 s, total: 10.4 s\n",
            "Wall time: 5.69 s\n"
          ]
        }
      ]
    },
    {
      "cell_type": "code",
      "source": [
        "%%time\n",
        "scikit_25epochs = scikit_MLP(layers=(10, 15, 20), inputs=inputs, epochs=25)"
      ],
      "metadata": {
        "colab": {
          "base_uri": "https://localhost:8080/"
        },
        "id": "PsPG81WtZbtm",
        "outputId": "37f47e46-f5c6-4c7a-d27d-440d38a40a58"
      },
      "execution_count": 79,
      "outputs": [
        {
          "output_type": "stream",
          "name": "stderr",
          "text": [
            "/usr/local/lib/python3.7/dist-packages/sklearn/neural_network/_multilayer_perceptron.py:1109: DataConversionWarning: A column-vector y was passed when a 1d array was expected. Please change the shape of y to (n_samples, ), for example using ravel().\n",
            "  y = column_or_1d(y, warn=True)\n"
          ]
        },
        {
          "output_type": "stream",
          "name": "stdout",
          "text": [
            "precision: 0.7304065787747933\n",
            "recall: 0.7176204752521523\n",
            "f1: 0.7162693045286352\n",
            "accuracy: [0.7182266]\n",
            "Confusion matrix: \n",
            "[[ 786  334  221]\n",
            " [ 154 1077  142]\n",
            " [  44  249 1053]]\n",
            "CPU times: user 1.18 s, sys: 95.9 ms, total: 1.28 s\n",
            "Wall time: 1.18 s\n"
          ]
        },
        {
          "output_type": "stream",
          "name": "stderr",
          "text": [
            "/usr/local/lib/python3.7/dist-packages/sklearn/neural_network/_multilayer_perceptron.py:696: ConvergenceWarning: Stochastic Optimizer: Maximum iterations (25) reached and the optimization hasn't converged yet.\n",
            "  ConvergenceWarning,\n"
          ]
        }
      ]
    },
    {
      "cell_type": "markdown",
      "source": [
        "### Για 100 epochs:"
      ],
      "metadata": {
        "id": "hpOPAZXrX_Aw"
      }
    },
    {
      "cell_type": "code",
      "source": [
        "%%time\n",
        "my_MLP_100epochs = my_MLP(layers=[10,15,20,3], inputs=inputs, epochs=100)"
      ],
      "metadata": {
        "colab": {
          "base_uri": "https://localhost:8080/",
          "height": 439
        },
        "outputId": "f7d40474-64f1-40fe-c554-6155e7a888fa",
        "id": "S0z_5E0XYFDc"
      },
      "execution_count": 81,
      "outputs": [
        {
          "output_type": "display_data",
          "data": {
            "image/png": "[encoded data removed]",
            "text/plain": [
              "<Figure size 432x288 with 1 Axes>"
            ]
          },
          "metadata": {
            "needs_background": "light"
          }
        },
        {
          "output_type": "stream",
          "name": "stdout",
          "text": [
            "precision: 0.6165885128649723\n",
            "recall: 0.6184961500887369\n",
            "f1: 0.6159884529522986\n",
            "accuracy: [0.61773399]\n",
            "Confusion matrix: \n",
            "[[941 184 216]\n",
            " [384 713 276]\n",
            " [184 308 854]]\n",
            "CPU times: user 23.3 s, sys: 17.1 s, total: 40.4 s\n",
            "Wall time: 21.8 s\n"
          ]
        }
      ]
    },
    {
      "cell_type": "code",
      "source": [
        "%%time\n",
        "scikit_100epochs = scikit_MLP(layers=(10, 15, 20), inputs=inputs, epochs=100)"
      ],
      "metadata": {
        "colab": {
          "base_uri": "https://localhost:8080/"
        },
        "outputId": "d0fb8421-3635-42fc-aa22-f30d8fdab53a",
        "id": "pM2Br5aHYI-m"
      },
      "execution_count": 82,
      "outputs": [
        {
          "output_type": "stream",
          "name": "stderr",
          "text": [
            "/usr/local/lib/python3.7/dist-packages/sklearn/neural_network/_multilayer_perceptron.py:1109: DataConversionWarning: A column-vector y was passed when a 1d array was expected. Please change the shape of y to (n_samples, ), for example using ravel().\n",
            "  y = column_or_1d(y, warn=True)\n"
          ]
        },
        {
          "output_type": "stream",
          "name": "stdout",
          "text": [
            "precision: 0.7494822361121476\n",
            "recall: 0.7396781127493158\n",
            "f1: 0.7402409122388883\n",
            "accuracy: [0.74014778]\n",
            "Confusion matrix: \n",
            "[[ 873  312  156]\n",
            " [ 165 1090  118]\n",
            " [  62  242 1042]]\n",
            "CPU times: user 3.97 s, sys: 71.4 ms, total: 4.04 s\n",
            "Wall time: 3.97 s\n"
          ]
        },
        {
          "output_type": "stream",
          "name": "stderr",
          "text": [
            "/usr/local/lib/python3.7/dist-packages/sklearn/neural_network/_multilayer_perceptron.py:696: ConvergenceWarning: Stochastic Optimizer: Maximum iterations (100) reached and the optimization hasn't converged yet.\n",
            "  ConvergenceWarning,\n"
          ]
        }
      ]
    },
    {
      "cell_type": "markdown",
      "source": [
        "### Mε περισσότερους νευρώνες στα layers, με 25 epochs:"
      ],
      "metadata": {
        "id": "ZdbG9T92Ygjm"
      }
    },
    {
      "cell_type": "code",
      "source": [
        "%%time\n",
        "my_MLP_100epochs = my_MLP(layers=[50,75,100,3], inputs=inputs, epochs=25)"
      ],
      "metadata": {
        "colab": {
          "base_uri": "https://localhost:8080/",
          "height": 439
        },
        "outputId": "f4228379-11b3-4ed9-90dd-2d68bc439364",
        "id": "wxhE0XvdYu1w"
      },
      "execution_count": 84,
      "outputs": [
        {
          "output_type": "display_data",
          "data": {
            "image/png": "[encoded data removed]",
            "text/plain": [
              "<Figure size 432x288 with 1 Axes>"
            ]
          },
          "metadata": {
            "needs_background": "light"
          }
        },
        {
          "output_type": "stream",
          "name": "stdout",
          "text": [
            "precision: 0.6604080777307796\n",
            "recall: 0.6322668312036966\n",
            "f1: 0.6307854097225701\n",
            "accuracy: [0.63226601]\n",
            "Confusion matrix: \n",
            "[[ 690  289  362]\n",
            " [ 141  838  394]\n",
            " [  22  285 1039]]\n",
            "CPU times: user 9.67 s, sys: 6.27 s, total: 15.9 s\n",
            "Wall time: 8.52 s\n"
          ]
        }
      ]
    },
    {
      "cell_type": "code",
      "source": [
        "%%time\n",
        "scikit_25epochs = scikit_MLP(layers=(50,75,100), inputs=inputs, epochs=25)"
      ],
      "metadata": {
        "colab": {
          "base_uri": "https://localhost:8080/"
        },
        "outputId": "9d26bb77-4c45-4184-b767-51cc8300239f",
        "id": "RuV2bnv-Ys11"
      },
      "execution_count": 83,
      "outputs": [
        {
          "output_type": "stream",
          "name": "stderr",
          "text": [
            "/usr/local/lib/python3.7/dist-packages/sklearn/neural_network/_multilayer_perceptron.py:1109: DataConversionWarning: A column-vector y was passed when a 1d array was expected. Please change the shape of y to (n_samples, ), for example using ravel().\n",
            "  y = column_or_1d(y, warn=True)\n"
          ]
        },
        {
          "output_type": "stream",
          "name": "stdout",
          "text": [
            "precision: 0.7439968682745067\n",
            "recall: 0.7381067057882963\n",
            "f1: 0.739077751217717\n",
            "accuracy: [0.73842365]\n",
            "Confusion matrix: \n",
            "[[ 922  286  133]\n",
            " [ 197 1066  110]\n",
            " [ 109  227 1010]]\n",
            "CPU times: user 4.47 s, sys: 2.77 s, total: 7.23 s\n",
            "Wall time: 3.72 s\n"
          ]
        },
        {
          "output_type": "stream",
          "name": "stderr",
          "text": [
            "/usr/local/lib/python3.7/dist-packages/sklearn/neural_network/_multilayer_perceptron.py:696: ConvergenceWarning: Stochastic Optimizer: Maximum iterations (25) reached and the optimization hasn't converged yet.\n",
            "  ConvergenceWarning,\n"
          ]
        }
      ]
    },
    {
      "cell_type": "markdown",
      "source": [
        "### Συμπεράσματα για MLP"
      ],
      "metadata": {
        "id": "9Bv93VBjZBXf"
      }
    },
    {
      "cell_type": "markdown",
      "source": [
        "Για τη δικη μας υλοποίηση του MLP παρατηρώ τα εξής:\n",
        "> **Για 100 epochs** τα metrics μας είναι καλύτερα.\n",
        "> Ο χρόνος που χρειάστηκε ήταν περίπου τετραπλάσιος από ότι για 25 κάτι που μας υποψιάζει για ενδεχόμενη αναλογία χρόνου - epochs. \n",
        "\n",
        "> **Mε περισσότερους νευρώνες** (πενταπλάσιους) οι μετρικές μας βελτιώνονται ακόμα περισσότερο από ότι με τα 100 epochs.\n",
        "> ο χρόνος εκτέλεσης πενταπλασιάστηκε , παρατηρείται δηλαδή πάλι μία αναλογία. "
      ],
      "metadata": {
        "id": "BrN4yGWqZGue"
      }
    },
    {
      "cell_type": "markdown",
      "source": [
        "Για το MLP του scikit:\n",
        "> Έχουμε αναλογία χρόνου - epochs , χρόνου - νευρώνων.\n",
        "\n",
        "> Οι μετρικές βελτιώνονται αλλά όχι με τους ίδιους ρυθμούς που βελτιώνονται για τη δική μας υλοποιήση."
      ],
      "metadata": {
        "id": "elTHXahiaKei"
      }
    },
    {
      "cell_type": "markdown",
      "metadata": {
        "id": "gfrx064gcCr8"
      },
      "source": [
        "# Αξιολόγηση- Συμπεράσματα \n",
        "\n",
        "  \n",
        "\n",
        "Τέλος στο σημείο αυτό καλείστε να αξιολογήσετε τις διάφορες τεχνικές ταξινόμησης (KNN, Naive Bayes, MLP), τα αποτελέσματά τους, τους χρόνους εκτέλεσης, και να παραθέσετε παρατηρήσεις καθώς και οτιδήποτε σας φάνηκε ενδιαφέρον ή ιδιαίτερο. \n",
        "\n"
      ]
    },
    {
      "cell_type": "markdown",
      "source": [
        "* KNN classifier:\n",
        "> Οι μετρικές που είχαμε στον ΚΝΝ είναι καλές , από 60-70%. \\\\\n",
        "> Μεγάλοι χρόνοι εκτέλεσης σε σχέση με τις υπόλοιπες μεθόδους. \\\\\n",
        "> Σχετικά εύκολη υλοποίηση και ευκολία στην επίτευξη υψηλής απόδοσης , δηλαδή κοντά στον ΚΝΝ του scikit.\n",
        "\n",
        "* Naive Bayes:\n",
        "> Οι μετρικές που είχαμε στον Naive Bayes ήταν της τάξης του 70% και λίγο παραπάνω. \\\\\n",
        "> Συγκεκριμένα χρησιμοποιώντας 20 κλάσεις(διαστήματα) καταφέραμε να έχουμε καλύτερες μετρικές από τον Gaussian Naive Bayes της scikit-learn. \\\\\n",
        "> O Naive Bayes ήταν ο πιο γρήγορος classifier. \\\\\n",
        "> H υλοποίηση του κατα την άποψη μου ήταν δυσκολότερη από του ΚΝΝ, αλλα έιχαμε πολύ καλές επιδόσεις.\n",
        "\n",
        "* MLP:\n",
        "> Στη συγκεκριμένη μέθοδο πέτυχα τις χαμηλότερες μετρικές , που όμως με την αύξηση των epochs και των νευρώνων βελτιώθηκαν από το 0.5 στο 0.64 περίπου. \n",
        "> Ο MLP της scikit-learn επιτυγχάνει σχετικά εύκολα με μέτριο χρόνο εκτέλεσης μετρικές της τάξης του 0.7+.\n",
        "> Η υλοποίηση απαιτεί βαθύτερη κατανόηση του αλγορίθμου από οτι οι υπόλοιπες μέθοδοι. \n",
        "\n",
        "* **Βέλτιστος classifier**\n",
        "> Ως τον βέλτιστο classifier θα επέλεγα τόσο τον ΚΝΝ με euclidean απόσταση και k=50, αφού έχει ίδιες σχεδόν μετρικές με τον αντιστοιχο της scikit-learn. Αλλά και τον Naive Bayes με 20 διαστήματα , ο οποίος ξεπέρασε σε επιδόσεις τον αντίστοιχο της scikit-learn.\n"
      ],
      "metadata": {
        "id": "mg-H_2wECiP5"
      }
    }
  ],
  "metadata": {
    "colab": {
      "collapsed_sections": [],
      "name": "3othema_03117022.ipynb",
      "provenance": []
    },
    "kernelspec": {
      "display_name": "Python 3",
      "language": "python",
      "name": "python3"
    },
    "language_info": {
      "codemirror_mode": {
        "name": "ipython",
        "version": 3
      },
      "file_extension": ".py",
      "mimetype": "text/x-python",
      "name": "python",
      "nbconvert_exporter": "python",
      "pygments_lexer": "ipython3",
      "version": "3.8.5"
    }
  },
  "nbformat": 4,
  "nbformat_minor": 0
}